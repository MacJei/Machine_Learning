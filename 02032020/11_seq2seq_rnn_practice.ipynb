{
  "nbformat": 4,
  "nbformat_minor": 0,
  "metadata": {
    "kernelspec": {
      "display_name": "Python 3.7.4 64-bit ('anaconda3': virtualenv)",
      "language": "python",
      "name": "python37464bitanaconda3virtualenv32645142025941c89ba0a8870ffeabe0"
    },
    "language_info": {
      "codemirror_mode": {
        "name": "ipython",
        "version": 3
      },
      "file_extension": ".py",
      "mimetype": "text/x-python",
      "name": "python",
      "nbconvert_exporter": "python",
      "pygments_lexer": "ipython3",
      "version": "3.7.4-final"
    },
    "colab": {
      "name": "11_seq2seq_rnn_practice.ipynb",
      "provenance": []
    }
  },
  "cells": [
    {
      "cell_type": "markdown",
      "metadata": {
        "colab_type": "text",
        "id": "dwRYT7hktwa_"
      },
      "source": [
        "## day 11: seq2seq practice\n",
        "### Generating names with recurrent neural networks\n",
        "\n",
        "This time you'll find yourself delving into the heart (and other intestines) of recurrent neural networks on a class of toy problems.\n",
        "\n",
        "Struggle to find a name for the variable? Let's see how you'll come up with a name for your son/daughter. Surely no human has expertize over what is a good child name, so let us train RNN instead;\n",
        "\n",
        "It's dangerous to go alone, take these:"
      ]
    },
    {
      "cell_type": "code",
      "execution_count": 6,
      "metadata": {},
      "outputs": [],
      "source": [
        "import numpy as np\n",
        "import matplotlib.pyplot as plt\n",
        "%matplotlib inline"
      ]
    },
    {
      "cell_type": "markdown",
      "metadata": {
        "colab_type": "text",
        "id": "MRaYY5E3twb2"
      },
      "source": [
        "# Our data\n",
        "The dataset contains ~8k earthling names from different cultures, all in latin transcript.\n",
        "\n",
        "This notebook has been designed so as to allow you to quickly swap names for something similar: deep learning article titles, IKEA furniture, pokemon names, etc."
      ]
    },
    {
      "cell_type": "code",
      "execution_count": 7,
      "metadata": {},
      "outputs": [],
      "source": [
        "# Uncomment this cell in Colab\n",
        "\n",
        "# ! wget https://raw.githubusercontent.com/neychev/harbour_ml2020/master/day11_Recurrent_Neural_Networks/names -O names"
      ]
    },
    {
      "cell_type": "code",
      "execution_count": 8,
      "metadata": {},
      "outputs": [],
      "source": [
        "import os\n",
        "start_token = \" \"\n",
        "\n",
        "with open(\"names\") as f:\n",
        "    names = f.read()[:-1].split('\\n')\n",
        "    names = [start_token + line for line in names]"
      ]
    },
    {
      "cell_type": "code",
      "execution_count": 9,
      "metadata": {},
      "outputs": [
        {
          "name": "stdout",
          "output_type": "stream",
          "text": "n samples =  7944\n Abagael\n Claresta\n Glory\n Liliane\n Prissie\n Geeta\n Giovanne\n Piggy\n"
        }
      ],
      "source": [
        "print ('n samples = ',len(names))\n",
        "for x in names[::1000]:\n",
        "    print (x)"
      ]
    },
    {
      "cell_type": "code",
      "execution_count": 10,
      "metadata": {},
      "outputs": [
        {
          "name": "stdout",
          "output_type": "stream",
          "text": "max length = 16\n"
        },
        {
          "data": {
            "image/png": "[encoded data removed]",
            "image/svg+xml": "<?xml version=\"1.0\" encoding=\"utf-8\" standalone=\"no\"?>\n<!DOCTYPE svg PUBLIC \"-//W3C//DTD SVG 1.1//EN\"\n  \"http://www.w3.org/Graphics/SVG/1.1/DTD/svg11.dtd\">\n<!-- Created with matplotlib (https://matplotlib.org/) -->\n<svg height=\"263.63625pt\" version=\"1.1\" viewBox=\"0 0 381.65 263.63625\" width=\"381.65pt\" xmlns=\"http://www.w3.org/2000/svg\" xmlns:xlink=\"http://www.w3.org/1999/xlink\">\n <defs>\n  <style type=\"text/css\">\n*{stroke-linecap:butt;stroke-linejoin:round;}\n  </style>\n </defs>\n <g id=\"figure_1\">\n  <g id=\"patch_1\">\n   <path d=\"M -0 263.63625 \nL 381.65 263.63625 \nL 381.65 0 \nL -0 0 \nz\n\" style=\"fill:none;\"/>\n  </g>\n  <g id=\"axes_1\">\n   <g id=\"patch_2\">\n    <path d=\"M 39.65 239.758125 \nL 374.45 239.758125 \nL 374.45 22.318125 \nL 39.65 22.318125 \nz\n\" style=\"fill:#ffffff;\"/>\n   </g>\n   <g id=\"patch_3\">\n    <path clip-path=\"url(#p0336342a0a)\" d=\"M 54.868182 239.758125 \nL 67.042727 239.758125 \nL 67.042727 237.837857 \nL 54.868182 237.837857 \nz\n\" style=\"fill:#1f77b4;\"/>\n   </g>\n   <g id=\"patch_4\">\n    <path clip-path=\"url(#p0336342a0a)\" d=\"M 67.042727 239.758125 \nL 79.217273 239.758125 \nL 79.217273 212.267976 \nL 67.042727 212.267976 \nz\n\" style=\"fill:#1f77b4;\"/>\n   </g>\n   <g id=\"patch_5\">\n    <path clip-path=\"url(#p0336342a0a)\" d=\"M 79.217273 239.758125 \nL 91.391818 239.758125 \nL 91.391818 239.758125 \nL 79.217273 239.758125 \nz\n\" style=\"fill:#1f77b4;\"/>\n   </g>\n   <g id=\"patch_6\">\n    <path clip-path=\"url(#p0336342a0a)\" d=\"M 91.391818 239.758125 \nL 103.566364 239.758125 \nL 103.566364 146.069273 \nL 91.391818 146.069273 \nz\n\" style=\"fill:#1f77b4;\"/>\n   </g>\n   <g id=\"patch_7\">\n    <path clip-path=\"url(#p0336342a0a)\" d=\"M 103.566364 239.758125 \nL 115.740909 239.758125 \nL 115.740909 239.758125 \nL 103.566364 239.758125 \nz\n\" style=\"fill:#1f77b4;\"/>\n   </g>\n   <g id=\"patch_8\">\n    <path clip-path=\"url(#p0336342a0a)\" d=\"M 115.740909 239.758125 \nL 127.915455 239.758125 \nL 127.915455 50.055887 \nL 115.740909 50.055887 \nz\n\" style=\"fill:#1f77b4;\"/>\n   </g>\n   <g id=\"patch_9\">\n    <path clip-path=\"url(#p0336342a0a)\" d=\"M 127.915455 239.758125 \nL 140.09 239.758125 \nL 140.09 239.758125 \nL 127.915455 239.758125 \nz\n\" style=\"fill:#1f77b4;\"/>\n   </g>\n   <g id=\"patch_10\">\n    <path clip-path=\"url(#p0336342a0a)\" d=\"M 140.09 239.758125 \nL 152.264545 239.758125 \nL 152.264545 32.672411 \nL 140.09 32.672411 \nz\n\" style=\"fill:#1f77b4;\"/>\n   </g>\n   <g id=\"patch_11\">\n    <path clip-path=\"url(#p0336342a0a)\" d=\"M 152.264545 239.758125 \nL 164.439091 239.758125 \nL 164.439091 239.758125 \nL 152.264545 239.758125 \nz\n\" style=\"fill:#1f77b4;\"/>\n   </g>\n   <g id=\"patch_12\">\n    <path clip-path=\"url(#p0336342a0a)\" d=\"M 164.439091 239.758125 \nL 176.613636 239.758125 \nL 176.613636 93.514578 \nL 164.439091 93.514578 \nz\n\" style=\"fill:#1f77b4;\"/>\n   </g>\n   <g id=\"patch_13\">\n    <path clip-path=\"url(#p0336342a0a)\" d=\"M 176.613636 239.758125 \nL 188.788182 239.758125 \nL 188.788182 239.758125 \nL 176.613636 239.758125 \nz\n\" style=\"fill:#1f77b4;\"/>\n   </g>\n   <g id=\"patch_14\">\n    <path clip-path=\"url(#p0336342a0a)\" d=\"M 188.788182 239.758125 \nL 200.962727 239.758125 \nL 200.962727 154.255678 \nL 188.788182 154.255678 \nz\n\" style=\"fill:#1f77b4;\"/>\n   </g>\n   <g id=\"patch_15\">\n    <path clip-path=\"url(#p0336342a0a)\" d=\"M 200.962727 239.758125 \nL 213.137273 239.758125 \nL 213.137273 239.758125 \nL 200.962727 239.758125 \nz\n\" style=\"fill:#1f77b4;\"/>\n   </g>\n   <g id=\"patch_16\">\n    <path clip-path=\"url(#p0336342a0a)\" d=\"M 213.137273 239.758125 \nL 225.311818 239.758125 \nL 225.311818 204.283705 \nL 213.137273 204.283705 \nz\n\" style=\"fill:#1f77b4;\"/>\n   </g>\n   <g id=\"patch_17\">\n    <path clip-path=\"url(#p0336342a0a)\" d=\"M 225.311818 239.758125 \nL 237.486364 239.758125 \nL 237.486364 239.758125 \nL 225.311818 239.758125 \nz\n\" style=\"fill:#1f77b4;\"/>\n   </g>\n   <g id=\"patch_18\">\n    <path clip-path=\"url(#p0336342a0a)\" d=\"M 237.486364 239.758125 \nL 249.660909 239.758125 \nL 249.660909 228.034385 \nL 237.486364 228.034385 \nz\n\" style=\"fill:#1f77b4;\"/>\n   </g>\n   <g id=\"patch_19\">\n    <path clip-path=\"url(#p0336342a0a)\" d=\"M 249.660909 239.758125 \nL 261.835455 239.758125 \nL 261.835455 239.758125 \nL 249.660909 239.758125 \nz\n\" style=\"fill:#1f77b4;\"/>\n   </g>\n   <g id=\"patch_20\">\n    <path clip-path=\"url(#p0336342a0a)\" d=\"M 261.835455 239.758125 \nL 274.01 239.758125 \nL 274.01 237.332524 \nL 261.835455 237.332524 \nz\n\" style=\"fill:#1f77b4;\"/>\n   </g>\n   <g id=\"patch_21\">\n    <path clip-path=\"url(#p0336342a0a)\" d=\"M 274.01 239.758125 \nL 286.184545 239.758125 \nL 286.184545 239.758125 \nL 274.01 239.758125 \nz\n\" style=\"fill:#1f77b4;\"/>\n   </g>\n   <g id=\"patch_22\">\n    <path clip-path=\"url(#p0336342a0a)\" d=\"M 286.184545 239.758125 \nL 298.359091 239.758125 \nL 298.359091 238.747458 \nL 286.184545 238.747458 \nz\n\" style=\"fill:#1f77b4;\"/>\n   </g>\n   <g id=\"patch_23\">\n    <path clip-path=\"url(#p0336342a0a)\" d=\"M 298.359091 239.758125 \nL 310.533636 239.758125 \nL 310.533636 239.758125 \nL 298.359091 239.758125 \nz\n\" style=\"fill:#1f77b4;\"/>\n   </g>\n   <g id=\"patch_24\">\n    <path clip-path=\"url(#p0336342a0a)\" d=\"M 310.533636 239.758125 \nL 322.708182 239.758125 \nL 322.708182 239.454925 \nL 310.533636 239.454925 \nz\n\" style=\"fill:#1f77b4;\"/>\n   </g>\n   <g id=\"patch_25\">\n    <path clip-path=\"url(#p0336342a0a)\" d=\"M 322.708182 239.758125 \nL 334.882727 239.758125 \nL 334.882727 239.758125 \nL 322.708182 239.758125 \nz\n\" style=\"fill:#1f77b4;\"/>\n   </g>\n   <g id=\"patch_26\">\n    <path clip-path=\"url(#p0336342a0a)\" d=\"M 334.882727 239.758125 \nL 347.057273 239.758125 \nL 347.057273 239.657058 \nL 334.882727 239.657058 \nz\n\" style=\"fill:#1f77b4;\"/>\n   </g>\n   <g id=\"patch_27\">\n    <path clip-path=\"url(#p0336342a0a)\" d=\"M 347.057273 239.758125 \nL 359.231818 239.758125 \nL 359.231818 239.555992 \nL 347.057273 239.555992 \nz\n\" style=\"fill:#1f77b4;\"/>\n   </g>\n   <g id=\"matplotlib.axis_1\">\n    <g id=\"xtick_1\">\n     <g id=\"line2d_1\">\n      <defs>\n       <path d=\"M 0 0 \nL 0 3.5 \n\" id=\"m28ce8fdc49\" style=\"stroke:#000000;stroke-width:0.8;\"/>\n      </defs>\n      <g>\n       <use style=\"stroke:#000000;stroke-width:0.8;\" x=\"78.280769\" xlink:href=\"#m28ce8fdc49\" y=\"239.758125\"/>\n      </g>\n     </g>\n     <g id=\"text_1\">\n      <!-- 4 -->\n      <defs>\n       <path d=\"M 37.796875 64.3125 \nL 12.890625 25.390625 \nL 37.796875 25.390625 \nz\nM 35.203125 72.90625 \nL 47.609375 72.90625 \nL 47.609375 25.390625 \nL 58.015625 25.390625 \nL 58.015625 17.1875 \nL 47.609375 17.1875 \nL 47.609375 0 \nL 37.796875 0 \nL 37.796875 17.1875 \nL 4.890625 17.1875 \nL 4.890625 26.703125 \nz\n\" id=\"DejaVuSans-52\"/>\n      </defs>\n      <g transform=\"translate(75.099519 254.356563)scale(0.1 -0.1)\">\n       <use xlink:href=\"#DejaVuSans-52\"/>\n      </g>\n     </g>\n    </g>\n    <g id=\"xtick_2\">\n     <g id=\"line2d_2\">\n      <g>\n       <use style=\"stroke:#000000;stroke-width:0.8;\" x=\"125.105944\" xlink:href=\"#m28ce8fdc49\" y=\"239.758125\"/>\n      </g>\n     </g>\n     <g id=\"text_2\">\n      <!-- 6 -->\n      <defs>\n       <path d=\"M 33.015625 40.375 \nQ 26.375 40.375 22.484375 35.828125 \nQ 18.609375 31.296875 18.609375 23.390625 \nQ 18.609375 15.53125 22.484375 10.953125 \nQ 26.375 6.390625 33.015625 6.390625 \nQ 39.65625 6.390625 43.53125 10.953125 \nQ 47.40625 15.53125 47.40625 23.390625 \nQ 47.40625 31.296875 43.53125 35.828125 \nQ 39.65625 40.375 33.015625 40.375 \nz\nM 52.59375 71.296875 \nL 52.59375 62.3125 \nQ 48.875 64.0625 45.09375 64.984375 \nQ 41.3125 65.921875 37.59375 65.921875 \nQ 27.828125 65.921875 22.671875 59.328125 \nQ 17.53125 52.734375 16.796875 39.40625 \nQ 19.671875 43.65625 24.015625 45.921875 \nQ 28.375 48.1875 33.59375 48.1875 \nQ 44.578125 48.1875 50.953125 41.515625 \nQ 57.328125 34.859375 57.328125 23.390625 \nQ 57.328125 12.15625 50.6875 5.359375 \nQ 44.046875 -1.421875 33.015625 -1.421875 \nQ 20.359375 -1.421875 13.671875 8.265625 \nQ 6.984375 17.96875 6.984375 36.375 \nQ 6.984375 53.65625 15.1875 63.9375 \nQ 23.390625 74.21875 37.203125 74.21875 \nQ 40.921875 74.21875 44.703125 73.484375 \nQ 48.484375 72.75 52.59375 71.296875 \nz\n\" id=\"DejaVuSans-54\"/>\n      </defs>\n      <g transform=\"translate(121.924694 254.356563)scale(0.1 -0.1)\">\n       <use xlink:href=\"#DejaVuSans-54\"/>\n      </g>\n     </g>\n    </g>\n    <g id=\"xtick_3\">\n     <g id=\"line2d_3\">\n      <g>\n       <use style=\"stroke:#000000;stroke-width:0.8;\" x=\"171.931119\" xlink:href=\"#m28ce8fdc49\" y=\"239.758125\"/>\n      </g>\n     </g>\n     <g id=\"text_3\">\n      <!-- 8 -->\n      <defs>\n       <path d=\"M 31.78125 34.625 \nQ 24.75 34.625 20.71875 30.859375 \nQ 16.703125 27.09375 16.703125 20.515625 \nQ 16.703125 13.921875 20.71875 10.15625 \nQ 24.75 6.390625 31.78125 6.390625 \nQ 38.8125 6.390625 42.859375 10.171875 \nQ 46.921875 13.96875 46.921875 20.515625 \nQ 46.921875 27.09375 42.890625 30.859375 \nQ 38.875 34.625 31.78125 34.625 \nz\nM 21.921875 38.8125 \nQ 15.578125 40.375 12.03125 44.71875 \nQ 8.5 49.078125 8.5 55.328125 \nQ 8.5 64.0625 14.71875 69.140625 \nQ 20.953125 74.21875 31.78125 74.21875 \nQ 42.671875 74.21875 48.875 69.140625 \nQ 55.078125 64.0625 55.078125 55.328125 \nQ 55.078125 49.078125 51.53125 44.71875 \nQ 48 40.375 41.703125 38.8125 \nQ 48.828125 37.15625 52.796875 32.3125 \nQ 56.78125 27.484375 56.78125 20.515625 \nQ 56.78125 9.90625 50.3125 4.234375 \nQ 43.84375 -1.421875 31.78125 -1.421875 \nQ 19.734375 -1.421875 13.25 4.234375 \nQ 6.78125 9.90625 6.78125 20.515625 \nQ 6.78125 27.484375 10.78125 32.3125 \nQ 14.796875 37.15625 21.921875 38.8125 \nz\nM 18.3125 54.390625 \nQ 18.3125 48.734375 21.84375 45.5625 \nQ 25.390625 42.390625 31.78125 42.390625 \nQ 38.140625 42.390625 41.71875 45.5625 \nQ 45.3125 48.734375 45.3125 54.390625 \nQ 45.3125 60.0625 41.71875 63.234375 \nQ 38.140625 66.40625 31.78125 66.40625 \nQ 25.390625 66.40625 21.84375 63.234375 \nQ 18.3125 60.0625 18.3125 54.390625 \nz\n\" id=\"DejaVuSans-56\"/>\n      </defs>\n      <g transform=\"translate(168.749869 254.356563)scale(0.1 -0.1)\">\n       <use xlink:href=\"#DejaVuSans-56\"/>\n      </g>\n     </g>\n    </g>\n    <g id=\"xtick_4\">\n     <g id=\"line2d_4\">\n      <g>\n       <use style=\"stroke:#000000;stroke-width:0.8;\" x=\"218.756294\" xlink:href=\"#m28ce8fdc49\" y=\"239.758125\"/>\n      </g>\n     </g>\n     <g id=\"text_4\">\n      <!-- 10 -->\n      <defs>\n       <path d=\"M 12.40625 8.296875 \nL 28.515625 8.296875 \nL 28.515625 63.921875 \nL 10.984375 60.40625 \nL 10.984375 69.390625 \nL 28.421875 72.90625 \nL 38.28125 72.90625 \nL 38.28125 8.296875 \nL 54.390625 8.296875 \nL 54.390625 0 \nL 12.40625 0 \nz\n\" id=\"DejaVuSans-49\"/>\n       <path d=\"M 31.78125 66.40625 \nQ 24.171875 66.40625 20.328125 58.90625 \nQ 16.5 51.421875 16.5 36.375 \nQ 16.5 21.390625 20.328125 13.890625 \nQ 24.171875 6.390625 31.78125 6.390625 \nQ 39.453125 6.390625 43.28125 13.890625 \nQ 47.125 21.390625 47.125 36.375 \nQ 47.125 51.421875 43.28125 58.90625 \nQ 39.453125 66.40625 31.78125 66.40625 \nz\nM 31.78125 74.21875 \nQ 44.046875 74.21875 50.515625 64.515625 \nQ 56.984375 54.828125 56.984375 36.375 \nQ 56.984375 17.96875 50.515625 8.265625 \nQ 44.046875 -1.421875 31.78125 -1.421875 \nQ 19.53125 -1.421875 13.0625 8.265625 \nQ 6.59375 17.96875 6.59375 36.375 \nQ 6.59375 54.828125 13.0625 64.515625 \nQ 19.53125 74.21875 31.78125 74.21875 \nz\n\" id=\"DejaVuSans-48\"/>\n      </defs>\n      <g transform=\"translate(212.393794 254.356563)scale(0.1 -0.1)\">\n       <use xlink:href=\"#DejaVuSans-49\"/>\n       <use x=\"63.623047\" xlink:href=\"#DejaVuSans-48\"/>\n      </g>\n     </g>\n    </g>\n    <g id=\"xtick_5\">\n     <g id=\"line2d_5\">\n      <g>\n       <use style=\"stroke:#000000;stroke-width:0.8;\" x=\"265.581469\" xlink:href=\"#m28ce8fdc49\" y=\"239.758125\"/>\n      </g>\n     </g>\n     <g id=\"text_5\">\n      <!-- 12 -->\n      <defs>\n       <path d=\"M 19.1875 8.296875 \nL 53.609375 8.296875 \nL 53.609375 0 \nL 7.328125 0 \nL 7.328125 8.296875 \nQ 12.9375 14.109375 22.625 23.890625 \nQ 32.328125 33.6875 34.8125 36.53125 \nQ 39.546875 41.84375 41.421875 45.53125 \nQ 43.3125 49.21875 43.3125 52.78125 \nQ 43.3125 58.59375 39.234375 62.25 \nQ 35.15625 65.921875 28.609375 65.921875 \nQ 23.96875 65.921875 18.8125 64.3125 \nQ 13.671875 62.703125 7.8125 59.421875 \nL 7.8125 69.390625 \nQ 13.765625 71.78125 18.9375 73 \nQ 24.125 74.21875 28.421875 74.21875 \nQ 39.75 74.21875 46.484375 68.546875 \nQ 53.21875 62.890625 53.21875 53.421875 \nQ 53.21875 48.921875 51.53125 44.890625 \nQ 49.859375 40.875 45.40625 35.40625 \nQ 44.1875 33.984375 37.640625 27.21875 \nQ 31.109375 20.453125 19.1875 8.296875 \nz\n\" id=\"DejaVuSans-50\"/>\n      </defs>\n      <g transform=\"translate(259.218969 254.356563)scale(0.1 -0.1)\">\n       <use xlink:href=\"#DejaVuSans-49\"/>\n       <use x=\"63.623047\" xlink:href=\"#DejaVuSans-50\"/>\n      </g>\n     </g>\n    </g>\n    <g id=\"xtick_6\">\n     <g id=\"line2d_6\">\n      <g>\n       <use style=\"stroke:#000000;stroke-width:0.8;\" x=\"312.406643\" xlink:href=\"#m28ce8fdc49\" y=\"239.758125\"/>\n      </g>\n     </g>\n     <g id=\"text_6\">\n      <!-- 14 -->\n      <g transform=\"translate(306.044143 254.356563)scale(0.1 -0.1)\">\n       <use xlink:href=\"#DejaVuSans-49\"/>\n       <use x=\"63.623047\" xlink:href=\"#DejaVuSans-52\"/>\n      </g>\n     </g>\n    </g>\n    <g id=\"xtick_7\">\n     <g id=\"line2d_7\">\n      <g>\n       <use style=\"stroke:#000000;stroke-width:0.8;\" x=\"359.231818\" xlink:href=\"#m28ce8fdc49\" y=\"239.758125\"/>\n      </g>\n     </g>\n     <g id=\"text_7\">\n      <!-- 16 -->\n      <g transform=\"translate(352.869318 254.356563)scale(0.1 -0.1)\">\n       <use xlink:href=\"#DejaVuSans-49\"/>\n       <use x=\"63.623047\" xlink:href=\"#DejaVuSans-54\"/>\n      </g>\n     </g>\n    </g>\n   </g>\n   <g id=\"matplotlib.axis_2\">\n    <g id=\"ytick_1\">\n     <g id=\"line2d_8\">\n      <defs>\n       <path d=\"M 0 0 \nL -3.5 0 \n\" id=\"m682ea12618\" style=\"stroke:#000000;stroke-width:0.8;\"/>\n      </defs>\n      <g>\n       <use style=\"stroke:#000000;stroke-width:0.8;\" x=\"39.65\" xlink:href=\"#m682ea12618\" y=\"239.758125\"/>\n      </g>\n     </g>\n     <g id=\"text_8\">\n      <!-- 0 -->\n      <g transform=\"translate(26.2875 243.557344)scale(0.1 -0.1)\">\n       <use xlink:href=\"#DejaVuSans-48\"/>\n      </g>\n     </g>\n    </g>\n    <g id=\"ytick_2\">\n     <g id=\"line2d_9\">\n      <g>\n       <use style=\"stroke:#000000;stroke-width:0.8;\" x=\"39.65\" xlink:href=\"#m682ea12618\" y=\"214.491444\"/>\n      </g>\n     </g>\n     <g id=\"text_9\">\n      <!-- 250 -->\n      <defs>\n       <path d=\"M 10.796875 72.90625 \nL 49.515625 72.90625 \nL 49.515625 64.59375 \nL 19.828125 64.59375 \nL 19.828125 46.734375 \nQ 21.96875 47.46875 24.109375 47.828125 \nQ 26.265625 48.1875 28.421875 48.1875 \nQ 40.625 48.1875 47.75 41.5 \nQ 54.890625 34.8125 54.890625 23.390625 \nQ 54.890625 11.625 47.5625 5.09375 \nQ 40.234375 -1.421875 26.90625 -1.421875 \nQ 22.3125 -1.421875 17.546875 -0.640625 \nQ 12.796875 0.140625 7.71875 1.703125 \nL 7.71875 11.625 \nQ 12.109375 9.234375 16.796875 8.0625 \nQ 21.484375 6.890625 26.703125 6.890625 \nQ 35.15625 6.890625 40.078125 11.328125 \nQ 45.015625 15.765625 45.015625 23.390625 \nQ 45.015625 31 40.078125 35.4375 \nQ 35.15625 39.890625 26.703125 39.890625 \nQ 22.75 39.890625 18.8125 39.015625 \nQ 14.890625 38.140625 10.796875 36.28125 \nz\n\" id=\"DejaVuSans-53\"/>\n      </defs>\n      <g transform=\"translate(13.5625 218.290663)scale(0.1 -0.1)\">\n       <use xlink:href=\"#DejaVuSans-50\"/>\n       <use x=\"63.623047\" xlink:href=\"#DejaVuSans-53\"/>\n       <use x=\"127.246094\" xlink:href=\"#DejaVuSans-48\"/>\n      </g>\n     </g>\n    </g>\n    <g id=\"ytick_3\">\n     <g id=\"line2d_10\">\n      <g>\n       <use style=\"stroke:#000000;stroke-width:0.8;\" x=\"39.65\" xlink:href=\"#m682ea12618\" y=\"189.224764\"/>\n      </g>\n     </g>\n     <g id=\"text_10\">\n      <!-- 500 -->\n      <g transform=\"translate(13.5625 193.023983)scale(0.1 -0.1)\">\n       <use xlink:href=\"#DejaVuSans-53\"/>\n       <use x=\"63.623047\" xlink:href=\"#DejaVuSans-48\"/>\n       <use x=\"127.246094\" xlink:href=\"#DejaVuSans-48\"/>\n      </g>\n     </g>\n    </g>\n    <g id=\"ytick_4\">\n     <g id=\"line2d_11\">\n      <g>\n       <use style=\"stroke:#000000;stroke-width:0.8;\" x=\"39.65\" xlink:href=\"#m682ea12618\" y=\"163.958083\"/>\n      </g>\n     </g>\n     <g id=\"text_11\">\n      <!-- 750 -->\n      <defs>\n       <path d=\"M 8.203125 72.90625 \nL 55.078125 72.90625 \nL 55.078125 68.703125 \nL 28.609375 0 \nL 18.3125 0 \nL 43.21875 64.59375 \nL 8.203125 64.59375 \nz\n\" id=\"DejaVuSans-55\"/>\n      </defs>\n      <g transform=\"translate(13.5625 167.757302)scale(0.1 -0.1)\">\n       <use xlink:href=\"#DejaVuSans-55\"/>\n       <use x=\"63.623047\" xlink:href=\"#DejaVuSans-53\"/>\n       <use x=\"127.246094\" xlink:href=\"#DejaVuSans-48\"/>\n      </g>\n     </g>\n    </g>\n    <g id=\"ytick_5\">\n     <g id=\"line2d_12\">\n      <g>\n       <use style=\"stroke:#000000;stroke-width:0.8;\" x=\"39.65\" xlink:href=\"#m682ea12618\" y=\"138.691403\"/>\n      </g>\n     </g>\n     <g id=\"text_12\">\n      <!-- 1000 -->\n      <g transform=\"translate(7.2 142.490621)scale(0.1 -0.1)\">\n       <use xlink:href=\"#DejaVuSans-49\"/>\n       <use x=\"63.623047\" xlink:href=\"#DejaVuSans-48\"/>\n       <use x=\"127.246094\" xlink:href=\"#DejaVuSans-48\"/>\n       <use x=\"190.869141\" xlink:href=\"#DejaVuSans-48\"/>\n      </g>\n     </g>\n    </g>\n    <g id=\"ytick_6\">\n     <g id=\"line2d_13\">\n      <g>\n       <use style=\"stroke:#000000;stroke-width:0.8;\" x=\"39.65\" xlink:href=\"#m682ea12618\" y=\"113.424722\"/>\n      </g>\n     </g>\n     <g id=\"text_13\">\n      <!-- 1250 -->\n      <g transform=\"translate(7.2 117.223941)scale(0.1 -0.1)\">\n       <use xlink:href=\"#DejaVuSans-49\"/>\n       <use x=\"63.623047\" xlink:href=\"#DejaVuSans-50\"/>\n       <use x=\"127.246094\" xlink:href=\"#DejaVuSans-53\"/>\n       <use x=\"190.869141\" xlink:href=\"#DejaVuSans-48\"/>\n      </g>\n     </g>\n    </g>\n    <g id=\"ytick_7\">\n     <g id=\"line2d_14\">\n      <g>\n       <use style=\"stroke:#000000;stroke-width:0.8;\" x=\"39.65\" xlink:href=\"#m682ea12618\" y=\"88.158041\"/>\n      </g>\n     </g>\n     <g id=\"text_14\">\n      <!-- 1500 -->\n      <g transform=\"translate(7.2 91.95726)scale(0.1 -0.1)\">\n       <use xlink:href=\"#DejaVuSans-49\"/>\n       <use x=\"63.623047\" xlink:href=\"#DejaVuSans-53\"/>\n       <use x=\"127.246094\" xlink:href=\"#DejaVuSans-48\"/>\n       <use x=\"190.869141\" xlink:href=\"#DejaVuSans-48\"/>\n      </g>\n     </g>\n    </g>\n    <g id=\"ytick_8\">\n     <g id=\"line2d_15\">\n      <g>\n       <use style=\"stroke:#000000;stroke-width:0.8;\" x=\"39.65\" xlink:href=\"#m682ea12618\" y=\"62.891361\"/>\n      </g>\n     </g>\n     <g id=\"text_15\">\n      <!-- 1750 -->\n      <g transform=\"translate(7.2 66.690579)scale(0.1 -0.1)\">\n       <use xlink:href=\"#DejaVuSans-49\"/>\n       <use x=\"63.623047\" xlink:href=\"#DejaVuSans-55\"/>\n       <use x=\"127.246094\" xlink:href=\"#DejaVuSans-53\"/>\n       <use x=\"190.869141\" xlink:href=\"#DejaVuSans-48\"/>\n      </g>\n     </g>\n    </g>\n    <g id=\"ytick_9\">\n     <g id=\"line2d_16\">\n      <g>\n       <use style=\"stroke:#000000;stroke-width:0.8;\" x=\"39.65\" xlink:href=\"#m682ea12618\" y=\"37.62468\"/>\n      </g>\n     </g>\n     <g id=\"text_16\">\n      <!-- 2000 -->\n      <g transform=\"translate(7.2 41.423899)scale(0.1 -0.1)\">\n       <use xlink:href=\"#DejaVuSans-50\"/>\n       <use x=\"63.623047\" xlink:href=\"#DejaVuSans-48\"/>\n       <use x=\"127.246094\" xlink:href=\"#DejaVuSans-48\"/>\n       <use x=\"190.869141\" xlink:href=\"#DejaVuSans-48\"/>\n      </g>\n     </g>\n    </g>\n   </g>\n   <g id=\"patch_28\">\n    <path d=\"M 39.65 239.758125 \nL 39.65 22.318125 \n\" style=\"fill:none;stroke:#000000;stroke-linecap:square;stroke-linejoin:miter;stroke-width:0.8;\"/>\n   </g>\n   <g id=\"patch_29\">\n    <path d=\"M 374.45 239.758125 \nL 374.45 22.318125 \n\" style=\"fill:none;stroke:#000000;stroke-linecap:square;stroke-linejoin:miter;stroke-width:0.8;\"/>\n   </g>\n   <g id=\"patch_30\">\n    <path d=\"M 39.65 239.758125 \nL 374.45 239.758125 \n\" style=\"fill:none;stroke:#000000;stroke-linecap:square;stroke-linejoin:miter;stroke-width:0.8;\"/>\n   </g>\n   <g id=\"patch_31\">\n    <path d=\"M 39.65 22.318125 \nL 374.45 22.318125 \n\" style=\"fill:none;stroke:#000000;stroke-linecap:square;stroke-linejoin:miter;stroke-width:0.8;\"/>\n   </g>\n   <g id=\"text_17\">\n    <!-- Sequence length distribution -->\n    <defs>\n     <path d=\"M 53.515625 70.515625 \nL 53.515625 60.890625 \nQ 47.90625 63.578125 42.921875 64.890625 \nQ 37.9375 66.21875 33.296875 66.21875 \nQ 25.25 66.21875 20.875 63.09375 \nQ 16.5 59.96875 16.5 54.203125 \nQ 16.5 49.359375 19.40625 46.890625 \nQ 22.3125 44.4375 30.421875 42.921875 \nL 36.375 41.703125 \nQ 47.40625 39.59375 52.65625 34.296875 \nQ 57.90625 29 57.90625 20.125 \nQ 57.90625 9.515625 50.796875 4.046875 \nQ 43.703125 -1.421875 29.984375 -1.421875 \nQ 24.8125 -1.421875 18.96875 -0.25 \nQ 13.140625 0.921875 6.890625 3.21875 \nL 6.890625 13.375 \nQ 12.890625 10.015625 18.65625 8.296875 \nQ 24.421875 6.59375 29.984375 6.59375 \nQ 38.421875 6.59375 43.015625 9.90625 \nQ 47.609375 13.234375 47.609375 19.390625 \nQ 47.609375 24.75 44.3125 27.78125 \nQ 41.015625 30.8125 33.5 32.328125 \nL 27.484375 33.5 \nQ 16.453125 35.6875 11.515625 40.375 \nQ 6.59375 45.0625 6.59375 53.421875 \nQ 6.59375 63.09375 13.40625 68.65625 \nQ 20.21875 74.21875 32.171875 74.21875 \nQ 37.3125 74.21875 42.625 73.28125 \nQ 47.953125 72.359375 53.515625 70.515625 \nz\n\" id=\"DejaVuSans-83\"/>\n     <path d=\"M 56.203125 29.59375 \nL 56.203125 25.203125 \nL 14.890625 25.203125 \nQ 15.484375 15.921875 20.484375 11.0625 \nQ 25.484375 6.203125 34.421875 6.203125 \nQ 39.59375 6.203125 44.453125 7.46875 \nQ 49.3125 8.734375 54.109375 11.28125 \nL 54.109375 2.78125 \nQ 49.265625 0.734375 44.1875 -0.34375 \nQ 39.109375 -1.421875 33.890625 -1.421875 \nQ 20.796875 -1.421875 13.15625 6.1875 \nQ 5.515625 13.8125 5.515625 26.8125 \nQ 5.515625 40.234375 12.765625 48.109375 \nQ 20.015625 56 32.328125 56 \nQ 43.359375 56 49.78125 48.890625 \nQ 56.203125 41.796875 56.203125 29.59375 \nz\nM 47.21875 32.234375 \nQ 47.125 39.59375 43.09375 43.984375 \nQ 39.0625 48.390625 32.421875 48.390625 \nQ 24.90625 48.390625 20.390625 44.140625 \nQ 15.875 39.890625 15.1875 32.171875 \nz\n\" id=\"DejaVuSans-101\"/>\n     <path d=\"M 14.796875 27.296875 \nQ 14.796875 17.390625 18.875 11.75 \nQ 22.953125 6.109375 30.078125 6.109375 \nQ 37.203125 6.109375 41.296875 11.75 \nQ 45.40625 17.390625 45.40625 27.296875 \nQ 45.40625 37.203125 41.296875 42.84375 \nQ 37.203125 48.484375 30.078125 48.484375 \nQ 22.953125 48.484375 18.875 42.84375 \nQ 14.796875 37.203125 14.796875 27.296875 \nz\nM 45.40625 8.203125 \nQ 42.578125 3.328125 38.25 0.953125 \nQ 33.9375 -1.421875 27.875 -1.421875 \nQ 17.96875 -1.421875 11.734375 6.484375 \nQ 5.515625 14.40625 5.515625 27.296875 \nQ 5.515625 40.1875 11.734375 48.09375 \nQ 17.96875 56 27.875 56 \nQ 33.9375 56 38.25 53.625 \nQ 42.578125 51.265625 45.40625 46.390625 \nL 45.40625 54.6875 \nL 54.390625 54.6875 \nL 54.390625 -20.796875 \nL 45.40625 -20.796875 \nz\n\" id=\"DejaVuSans-113\"/>\n     <path d=\"M 8.5 21.578125 \nL 8.5 54.6875 \nL 17.484375 54.6875 \nL 17.484375 21.921875 \nQ 17.484375 14.15625 20.5 10.265625 \nQ 23.53125 6.390625 29.59375 6.390625 \nQ 36.859375 6.390625 41.078125 11.03125 \nQ 45.3125 15.671875 45.3125 23.6875 \nL 45.3125 54.6875 \nL 54.296875 54.6875 \nL 54.296875 0 \nL 45.3125 0 \nL 45.3125 8.40625 \nQ 42.046875 3.421875 37.71875 1 \nQ 33.40625 -1.421875 27.6875 -1.421875 \nQ 18.265625 -1.421875 13.375 4.4375 \nQ 8.5 10.296875 8.5 21.578125 \nz\nM 31.109375 56 \nz\n\" id=\"DejaVuSans-117\"/>\n     <path d=\"M 54.890625 33.015625 \nL 54.890625 0 \nL 45.90625 0 \nL 45.90625 32.71875 \nQ 45.90625 40.484375 42.875 44.328125 \nQ 39.84375 48.1875 33.796875 48.1875 \nQ 26.515625 48.1875 22.3125 43.546875 \nQ 18.109375 38.921875 18.109375 30.90625 \nL 18.109375 0 \nL 9.078125 0 \nL 9.078125 54.6875 \nL 18.109375 54.6875 \nL 18.109375 46.1875 \nQ 21.34375 51.125 25.703125 53.5625 \nQ 30.078125 56 35.796875 56 \nQ 45.21875 56 50.046875 50.171875 \nQ 54.890625 44.34375 54.890625 33.015625 \nz\n\" id=\"DejaVuSans-110\"/>\n     <path d=\"M 48.78125 52.59375 \nL 48.78125 44.1875 \nQ 44.96875 46.296875 41.140625 47.34375 \nQ 37.3125 48.390625 33.40625 48.390625 \nQ 24.65625 48.390625 19.8125 42.84375 \nQ 14.984375 37.3125 14.984375 27.296875 \nQ 14.984375 17.28125 19.8125 11.734375 \nQ 24.65625 6.203125 33.40625 6.203125 \nQ 37.3125 6.203125 41.140625 7.25 \nQ 44.96875 8.296875 48.78125 10.40625 \nL 48.78125 2.09375 \nQ 45.015625 0.34375 40.984375 -0.53125 \nQ 36.96875 -1.421875 32.421875 -1.421875 \nQ 20.0625 -1.421875 12.78125 6.34375 \nQ 5.515625 14.109375 5.515625 27.296875 \nQ 5.515625 40.671875 12.859375 48.328125 \nQ 20.21875 56 33.015625 56 \nQ 37.15625 56 41.109375 55.140625 \nQ 45.0625 54.296875 48.78125 52.59375 \nz\n\" id=\"DejaVuSans-99\"/>\n     <path id=\"DejaVuSans-32\"/>\n     <path d=\"M 9.421875 75.984375 \nL 18.40625 75.984375 \nL 18.40625 0 \nL 9.421875 0 \nz\n\" id=\"DejaVuSans-108\"/>\n     <path d=\"M 45.40625 27.984375 \nQ 45.40625 37.75 41.375 43.109375 \nQ 37.359375 48.484375 30.078125 48.484375 \nQ 22.859375 48.484375 18.828125 43.109375 \nQ 14.796875 37.75 14.796875 27.984375 \nQ 14.796875 18.265625 18.828125 12.890625 \nQ 22.859375 7.515625 30.078125 7.515625 \nQ 37.359375 7.515625 41.375 12.890625 \nQ 45.40625 18.265625 45.40625 27.984375 \nz\nM 54.390625 6.78125 \nQ 54.390625 -7.171875 48.1875 -13.984375 \nQ 42 -20.796875 29.203125 -20.796875 \nQ 24.46875 -20.796875 20.265625 -20.09375 \nQ 16.0625 -19.390625 12.109375 -17.921875 \nL 12.109375 -9.1875 \nQ 16.0625 -11.328125 19.921875 -12.34375 \nQ 23.78125 -13.375 27.78125 -13.375 \nQ 36.625 -13.375 41.015625 -8.765625 \nQ 45.40625 -4.15625 45.40625 5.171875 \nL 45.40625 9.625 \nQ 42.625 4.78125 38.28125 2.390625 \nQ 33.9375 0 27.875 0 \nQ 17.828125 0 11.671875 7.65625 \nQ 5.515625 15.328125 5.515625 27.984375 \nQ 5.515625 40.671875 11.671875 48.328125 \nQ 17.828125 56 27.875 56 \nQ 33.9375 56 38.28125 53.609375 \nQ 42.625 51.21875 45.40625 46.390625 \nL 45.40625 54.6875 \nL 54.390625 54.6875 \nz\n\" id=\"DejaVuSans-103\"/>\n     <path d=\"M 18.3125 70.21875 \nL 18.3125 54.6875 \nL 36.8125 54.6875 \nL 36.8125 47.703125 \nL 18.3125 47.703125 \nL 18.3125 18.015625 \nQ 18.3125 11.328125 20.140625 9.421875 \nQ 21.96875 7.515625 27.59375 7.515625 \nL 36.8125 7.515625 \nL 36.8125 0 \nL 27.59375 0 \nQ 17.1875 0 13.234375 3.875 \nQ 9.28125 7.765625 9.28125 18.015625 \nL 9.28125 47.703125 \nL 2.6875 47.703125 \nL 2.6875 54.6875 \nL 9.28125 54.6875 \nL 9.28125 70.21875 \nz\n\" id=\"DejaVuSans-116\"/>\n     <path d=\"M 54.890625 33.015625 \nL 54.890625 0 \nL 45.90625 0 \nL 45.90625 32.71875 \nQ 45.90625 40.484375 42.875 44.328125 \nQ 39.84375 48.1875 33.796875 48.1875 \nQ 26.515625 48.1875 22.3125 43.546875 \nQ 18.109375 38.921875 18.109375 30.90625 \nL 18.109375 0 \nL 9.078125 0 \nL 9.078125 75.984375 \nL 18.109375 75.984375 \nL 18.109375 46.1875 \nQ 21.34375 51.125 25.703125 53.5625 \nQ 30.078125 56 35.796875 56 \nQ 45.21875 56 50.046875 50.171875 \nQ 54.890625 44.34375 54.890625 33.015625 \nz\n\" id=\"DejaVuSans-104\"/>\n     <path d=\"M 45.40625 46.390625 \nL 45.40625 75.984375 \nL 54.390625 75.984375 \nL 54.390625 0 \nL 45.40625 0 \nL 45.40625 8.203125 \nQ 42.578125 3.328125 38.25 0.953125 \nQ 33.9375 -1.421875 27.875 -1.421875 \nQ 17.96875 -1.421875 11.734375 6.484375 \nQ 5.515625 14.40625 5.515625 27.296875 \nQ 5.515625 40.1875 11.734375 48.09375 \nQ 17.96875 56 27.875 56 \nQ 33.9375 56 38.25 53.625 \nQ 42.578125 51.265625 45.40625 46.390625 \nz\nM 14.796875 27.296875 \nQ 14.796875 17.390625 18.875 11.75 \nQ 22.953125 6.109375 30.078125 6.109375 \nQ 37.203125 6.109375 41.296875 11.75 \nQ 45.40625 17.390625 45.40625 27.296875 \nQ 45.40625 37.203125 41.296875 42.84375 \nQ 37.203125 48.484375 30.078125 48.484375 \nQ 22.953125 48.484375 18.875 42.84375 \nQ 14.796875 37.203125 14.796875 27.296875 \nz\n\" id=\"DejaVuSans-100\"/>\n     <path d=\"M 9.421875 54.6875 \nL 18.40625 54.6875 \nL 18.40625 0 \nL 9.421875 0 \nz\nM 9.421875 75.984375 \nL 18.40625 75.984375 \nL 18.40625 64.59375 \nL 9.421875 64.59375 \nz\n\" id=\"DejaVuSans-105\"/>\n     <path d=\"M 44.28125 53.078125 \nL 44.28125 44.578125 \nQ 40.484375 46.53125 36.375 47.5 \nQ 32.28125 48.484375 27.875 48.484375 \nQ 21.1875 48.484375 17.84375 46.4375 \nQ 14.5 44.390625 14.5 40.28125 \nQ 14.5 37.15625 16.890625 35.375 \nQ 19.28125 33.59375 26.515625 31.984375 \nL 29.59375 31.296875 \nQ 39.15625 29.25 43.1875 25.515625 \nQ 47.21875 21.78125 47.21875 15.09375 \nQ 47.21875 7.46875 41.1875 3.015625 \nQ 35.15625 -1.421875 24.609375 -1.421875 \nQ 20.21875 -1.421875 15.453125 -0.5625 \nQ 10.6875 0.296875 5.421875 2 \nL 5.421875 11.28125 \nQ 10.40625 8.6875 15.234375 7.390625 \nQ 20.0625 6.109375 24.8125 6.109375 \nQ 31.15625 6.109375 34.5625 8.28125 \nQ 37.984375 10.453125 37.984375 14.40625 \nQ 37.984375 18.0625 35.515625 20.015625 \nQ 33.0625 21.96875 24.703125 23.78125 \nL 21.578125 24.515625 \nQ 13.234375 26.265625 9.515625 29.90625 \nQ 5.8125 33.546875 5.8125 39.890625 \nQ 5.8125 47.609375 11.28125 51.796875 \nQ 16.75 56 26.8125 56 \nQ 31.78125 56 36.171875 55.265625 \nQ 40.578125 54.546875 44.28125 53.078125 \nz\n\" id=\"DejaVuSans-115\"/>\n     <path d=\"M 41.109375 46.296875 \nQ 39.59375 47.171875 37.8125 47.578125 \nQ 36.03125 48 33.890625 48 \nQ 26.265625 48 22.1875 43.046875 \nQ 18.109375 38.09375 18.109375 28.8125 \nL 18.109375 0 \nL 9.078125 0 \nL 9.078125 54.6875 \nL 18.109375 54.6875 \nL 18.109375 46.1875 \nQ 20.953125 51.171875 25.484375 53.578125 \nQ 30.03125 56 36.53125 56 \nQ 37.453125 56 38.578125 55.875 \nQ 39.703125 55.765625 41.0625 55.515625 \nz\n\" id=\"DejaVuSans-114\"/>\n     <path d=\"M 48.6875 27.296875 \nQ 48.6875 37.203125 44.609375 42.84375 \nQ 40.53125 48.484375 33.40625 48.484375 \nQ 26.265625 48.484375 22.1875 42.84375 \nQ 18.109375 37.203125 18.109375 27.296875 \nQ 18.109375 17.390625 22.1875 11.75 \nQ 26.265625 6.109375 33.40625 6.109375 \nQ 40.53125 6.109375 44.609375 11.75 \nQ 48.6875 17.390625 48.6875 27.296875 \nz\nM 18.109375 46.390625 \nQ 20.953125 51.265625 25.265625 53.625 \nQ 29.59375 56 35.59375 56 \nQ 45.5625 56 51.78125 48.09375 \nQ 58.015625 40.1875 58.015625 27.296875 \nQ 58.015625 14.40625 51.78125 6.484375 \nQ 45.5625 -1.421875 35.59375 -1.421875 \nQ 29.59375 -1.421875 25.265625 0.953125 \nQ 20.953125 3.328125 18.109375 8.203125 \nL 18.109375 0 \nL 9.078125 0 \nL 9.078125 75.984375 \nL 18.109375 75.984375 \nz\n\" id=\"DejaVuSans-98\"/>\n     <path d=\"M 30.609375 48.390625 \nQ 23.390625 48.390625 19.1875 42.75 \nQ 14.984375 37.109375 14.984375 27.296875 \nQ 14.984375 17.484375 19.15625 11.84375 \nQ 23.34375 6.203125 30.609375 6.203125 \nQ 37.796875 6.203125 41.984375 11.859375 \nQ 46.1875 17.53125 46.1875 27.296875 \nQ 46.1875 37.015625 41.984375 42.703125 \nQ 37.796875 48.390625 30.609375 48.390625 \nz\nM 30.609375 56 \nQ 42.328125 56 49.015625 48.375 \nQ 55.71875 40.765625 55.71875 27.296875 \nQ 55.71875 13.875 49.015625 6.21875 \nQ 42.328125 -1.421875 30.609375 -1.421875 \nQ 18.84375 -1.421875 12.171875 6.21875 \nQ 5.515625 13.875 5.515625 27.296875 \nQ 5.515625 40.765625 12.171875 48.375 \nQ 18.84375 56 30.609375 56 \nz\n\" id=\"DejaVuSans-111\"/>\n    </defs>\n    <g transform=\"translate(120.321875 16.318125)scale(0.12 -0.12)\">\n     <use xlink:href=\"#DejaVuSans-83\"/>\n     <use x=\"63.476562\" xlink:href=\"#DejaVuSans-101\"/>\n     <use x=\"125\" xlink:href=\"#DejaVuSans-113\"/>\n     <use x=\"188.476562\" xlink:href=\"#DejaVuSans-117\"/>\n     <use x=\"251.855469\" xlink:href=\"#DejaVuSans-101\"/>\n     <use x=\"313.378906\" xlink:href=\"#DejaVuSans-110\"/>\n     <use x=\"376.757812\" xlink:href=\"#DejaVuSans-99\"/>\n     <use x=\"431.738281\" xlink:href=\"#DejaVuSans-101\"/>\n     <use x=\"493.261719\" xlink:href=\"#DejaVuSans-32\"/>\n     <use x=\"525.048828\" xlink:href=\"#DejaVuSans-108\"/>\n     <use x=\"552.832031\" xlink:href=\"#DejaVuSans-101\"/>\n     <use x=\"614.355469\" xlink:href=\"#DejaVuSans-110\"/>\n     <use x=\"677.734375\" xlink:href=\"#DejaVuSans-103\"/>\n     <use x=\"741.210938\" xlink:href=\"#DejaVuSans-116\"/>\n     <use x=\"780.419922\" xlink:href=\"#DejaVuSans-104\"/>\n     <use x=\"843.798828\" xlink:href=\"#DejaVuSans-32\"/>\n     <use x=\"875.585938\" xlink:href=\"#DejaVuSans-100\"/>\n     <use x=\"939.0625\" xlink:href=\"#DejaVuSans-105\"/>\n     <use x=\"966.845703\" xlink:href=\"#DejaVuSans-115\"/>\n     <use x=\"1018.945312\" xlink:href=\"#DejaVuSans-116\"/>\n     <use x=\"1058.154297\" xlink:href=\"#DejaVuSans-114\"/>\n     <use x=\"1099.267578\" xlink:href=\"#DejaVuSans-105\"/>\n     <use x=\"1127.050781\" xlink:href=\"#DejaVuSans-98\"/>\n     <use x=\"1190.527344\" xlink:href=\"#DejaVuSans-117\"/>\n     <use x=\"1253.90625\" xlink:href=\"#DejaVuSans-116\"/>\n     <use x=\"1293.115234\" xlink:href=\"#DejaVuSans-105\"/>\n     <use x=\"1320.898438\" xlink:href=\"#DejaVuSans-111\"/>\n     <use x=\"1382.080078\" xlink:href=\"#DejaVuSans-110\"/>\n    </g>\n   </g>\n  </g>\n </g>\n <defs>\n  <clipPath id=\"p0336342a0a\">\n   <rect height=\"217.44\" width=\"334.8\" x=\"39.65\" y=\"22.318125\"/>\n  </clipPath>\n </defs>\n</svg>\n",
            "text/plain": "<Figure size 432x288 with 1 Axes>"
          },
          "metadata": {
            "needs_background": "light"
          },
          "output_type": "display_data"
        }
      ],
      "source": [
        "MAX_LENGTH = max(map(len, names))\n",
        "print(\"max length =\", MAX_LENGTH)\n",
        "\n",
        "plt.title('Sequence length distribution')\n",
        "plt.hist(list(map(len, names)),bins=25);"
      ]
    },
    {
      "cell_type": "markdown",
      "metadata": {
        "colab_type": "text",
        "id": "4JuUbUc0twdL"
      },
      "source": [
        "# Text processing\n",
        "\n",
        "First we need next to collect a \"vocabulary\" of all unique tokens i.e. unique characters. We can then encode inputs as a sequence of character ids."
      ]
    },
    {
      "cell_type": "code",
      "execution_count": 11,
      "metadata": {},
      "outputs": [],
      "source": [
        "unique_characters = set()\n",
        "for name in names:\n",
        "    unique_characters.update(set(name))\n",
        "\n",
        "# unique_characters"
      ]
    },
    {
      "cell_type": "code",
      "execution_count": 12,
      "metadata": {},
      "outputs": [
        {
          "name": "stdout",
          "output_type": "stream",
          "text": "num_tokens =  55\n"
        }
      ],
      "source": [
        "#all unique characters go here\n",
        "tokens = unique_characters #<all unique characters in the dataset>\n",
        "\n",
        "tokens = list(tokens)\n",
        "\n",
        "num_tokens = len(tokens)\n",
        "print ('num_tokens = ', num_tokens)\n",
        "\n",
        "assert 50 < num_tokens < 60, \"Names should contain within 50 and 60 unique tokens depending on encoding\""
      ]
    },
    {
      "cell_type": "markdown",
      "metadata": {
        "colab_type": "text",
        "id": "v6KJ8Pkbtwdj"
      },
      "source": [
        "### Convert characters to integers\n",
        "\n",
        "Torch is built for crunching numbers, not strings. \n",
        "To train our neural network, we'll need to replace characters with their indices in tokens list.\n",
        "\n",
        "Let's compose a dictionary that does this mapping."
      ]
    },
    {
      "cell_type": "code",
      "execution_count": 13,
      "metadata": {},
      "outputs": [
        {
          "data": {
            "text/plain": "55"
          },
          "execution_count": 13,
          "metadata": {},
          "output_type": "execute_result"
        }
      ],
      "source": [
        "len(unique_characters)"
      ]
    },
    {
      "cell_type": "code",
      "execution_count": 14,
      "metadata": {},
      "outputs": [
        {
          "data": {
            "text/plain": "{'N': 0,\n '-': 1,\n 'B': 2,\n 'y': 3,\n 'c': 4,\n 'J': 5,\n 'D': 6,\n 'o': 7,\n 'G': 8,\n \"'\": 9,\n 'Q': 10,\n 'b': 11,\n 'P': 12,\n 'K': 13,\n 'A': 14,\n ' ': 15,\n 'a': 16,\n 'F': 17,\n 'X': 18,\n 'u': 19,\n 'H': 20,\n 'E': 21,\n 'r': 22,\n 'W': 23,\n 'e': 24,\n 'U': 25,\n 'w': 26,\n 'T': 27,\n 'n': 28,\n 'g': 29,\n 'z': 30,\n 'h': 31,\n 'j': 32,\n 'v': 33,\n 'R': 34,\n 'I': 35,\n 'O': 36,\n 'q': 37,\n 'Z': 38,\n 'Y': 39,\n 'S': 40,\n 'V': 41,\n 't': 42,\n 'L': 43,\n 'l': 44,\n 'd': 45,\n 'x': 46,\n 'f': 47,\n 'k': 48,\n 'C': 49,\n 'p': 50,\n 'M': 51,\n 'm': 52,\n 'i': 53,\n 's': 54}"
          },
          "execution_count": 14,
          "metadata": {},
          "output_type": "execute_result"
        }
      ],
      "source": [
        "dictionary = {}\n",
        "unique_characters = list(unique_characters)\n",
        "for i in range(len(unique_characters)):\n",
        "    dictionary[unique_characters[i]] = i\n",
        "\n",
        "dictionary"
      ]
    },
    {
      "cell_type": "code",
      "execution_count": 15,
      "metadata": {},
      "outputs": [],
      "source": [
        "token_to_id = dictionary #<dictionary of symbol -> its identifier (index in tokens list)>"
      ]
    },
    {
      "cell_type": "code",
      "execution_count": 16,
      "metadata": {},
      "outputs": [
        {
          "name": "stdout",
          "output_type": "stream",
          "text": "Seems alright!\n"
        }
      ],
      "source": [
        "assert len(tokens) == len(token_to_id), \"dictionaries must have same size\"\n",
        "\n",
        "for i in range(num_tokens):\n",
        "    assert token_to_id[tokens[i]] == i, \"token identifier must be it's position in tokens list\"\n",
        "\n",
        "print(\"Seems alright!\")"
      ]
    },
    {
      "cell_type": "code",
      "execution_count": 17,
      "metadata": {},
      "outputs": [],
      "source": [
        "def to_matrix(names, max_len=None, pad=token_to_id[' '], dtype='int32', batch_first = True):\n",
        "    \"\"\"Casts a list of names into rnn-digestable matrix\"\"\"\n",
        "    \n",
        "    max_len = max_len or max(map(len, names))\n",
        "    names_ix = np.zeros([len(names), max_len], dtype) + pad\n",
        "\n",
        "    for i in range(len(names)):\n",
        "        line_ix = [token_to_id[c] for c in names[i]]\n",
        "        names_ix[i, :len(line_ix)] = line_ix\n",
        "        \n",
        "    if not batch_first: # convert [batch, time] into [time, batch]\n",
        "        names_ix = np.transpose(names_ix)\n",
        "\n",
        "    return names_ix"
      ]
    },
    {
      "cell_type": "code",
      "execution_count": 18,
      "metadata": {},
      "outputs": [
        {
          "name": "stdout",
          "output_type": "stream",
          "text": "Abagael\n Glory\n Prissie\n Giovanne\n[[15 14 11 16 29 16 24 44 15]\n [15  8 44  7 22  3 15 15 15]\n [15 12 22 53 54 54 53 24 15]\n [15  8 53  7 33 16 28 28 24]]\n"
        }
      ],
      "source": [
        "#Example: cast 4 random names to matrices, pad with zeros\n",
        "print('\\n'.join(names[::2000]))\n",
        "print(to_matrix(names[::2000]))"
      ]
    },
    {
      "cell_type": "markdown",
      "metadata": {
        "colab_type": "text",
        "id": "BCjPj0MftwfF"
      },
      "source": [
        "# Recurrent neural network\n",
        "\n",
        "We can rewrite recurrent neural network as a consecutive application of dense layer to input $x_t$ and previous rnn state $h_t$. This is exactly what we're gonna do now.\n",
        "<img src=\"https://github.com/neychev/harbour_ml2020/blob/master/day11_Recurrent_Neural_Networks/rnn.png?raw=1\" width=480>\n",
        "\n",
        "Since we're training a language model, there should also be:\n",
        "* An embedding layer that converts character id x_t to a vector.\n",
        "* An output layer that predicts probabilities of next phoneme"
      ]
    },
    {
      "cell_type": "code",
      "execution_count": 19,
      "metadata": {},
      "outputs": [],
      "source": [
        "import torch, torch.nn as nn\n",
        "import torch.nn.functional as F"
      ]
    },
    {
      "cell_type": "code",
      "execution_count": 20,
      "metadata": {},
      "outputs": [],
      "source": [
        "a = torch.ones((1, 5))"
      ]
    },
    {
      "cell_type": "code",
      "execution_count": 21,
      "metadata": {},
      "outputs": [
        {
          "data": {
            "text/plain": "tensor([[1., 1., 1., 1., 1., 0., 0., 0., 0.]])"
          },
          "execution_count": 21,
          "metadata": {},
          "output_type": "execute_result"
        }
      ],
      "source": [
        "b = torch.zeros((1, 4))\n",
        "\n",
        "torch.cat([a,b], dim=1)"
      ]
    },
    {
      "cell_type": "code",
      "execution_count": 22,
      "metadata": {},
      "outputs": [],
      "source": [
        "class CharRNNCell(nn.Module):\n",
        "    \"\"\"\n",
        "    Implement the scheme above as torch module\n",
        "    \"\"\"\n",
        "    def __init__(self, num_tokens=len(tokens), embedding_size=16, rnn_num_units=64):\n",
        "        super(self.__class__,self).__init__()\n",
        "        self.num_units = rnn_num_units\n",
        "        \n",
        "        self.embedding = nn.Embedding(num_tokens, embedding_size)\n",
        "        self.rnn_update = nn.Linear(embedding_size + rnn_num_units, rnn_num_units)\n",
        "        self.rnn_to_logits = nn.Linear(rnn_num_units, num_tokens)\n",
        "        \n",
        "    def forward(self, x, h_prev):\n",
        "        \"\"\"\n",
        "        This method computes h_next(x, h_prev) and log P(x_next | h_next)\n",
        "        We'll call it repeatedly to produce the whole sequence.\n",
        "        \n",
        "        :param x: batch of character ids, containing vector of int64\n",
        "        :param h_prev: previous rnn hidden states, containing matrix [batch, rnn_num_units] of float32\n",
        "        \"\"\"\n",
        "        # get vector embedding of x\n",
        "        x_emb = self.embedding(x)\n",
        "        \n",
        "        # compute next hidden state using self.rnn_update\n",
        "        # hint: use torch.cat(..., dim=...) for concatenation\n",
        "        x_and_h = torch.cat([x_emb, h_prev], dim=1)            #YOUR CODE HERE\n",
        "        h_next = self.rnn_update(x_and_h)                      #YOUR CODE HERE\n",
        "        \n",
        "        h_next = F.tanh(h_next)                                #YOUR CODE HERE\n",
        "        \n",
        "        assert h_next.size() == h_prev.size()\n",
        "        \n",
        "        #compute logits for next character probs\n",
        "        logits = self.rnn_to_logits(h_next)                    #YOUR CODE HERE\n",
        "        \n",
        "        return h_next, F.log_softmax(logits, -1)\n",
        "    \n",
        "    def initial_state(self, batch_size):\n",
        "        \"\"\" return rnn state before it processes first input (aka h0) \"\"\"\n",
        "        return torch.zeros(batch_size, self.num_units, requires_grad=True)"
      ]
    },
    {
      "cell_type": "code",
      "execution_count": 23,
      "metadata": {},
      "outputs": [
        {
          "data": {
            "text/plain": "CharRNNCell(\n  (embedding): Embedding(55, 16)\n  (rnn_update): Linear(in_features=80, out_features=64, bias=True)\n  (rnn_to_logits): Linear(in_features=64, out_features=55, bias=True)\n)"
          },
          "execution_count": 23,
          "metadata": {},
          "output_type": "execute_result"
        }
      ],
      "source": [
        "char_rnn = CharRNNCell()\n",
        "char_rnn"
      ]
    },
    {
      "cell_type": "markdown",
      "metadata": {
        "colab_type": "text",
        "id": "wRAVxPH1twgP"
      },
      "source": [
        "### RNN loop\n",
        "\n",
        "Once we've defined a single RNN step, we can apply it in a loop to get predictions on each step."
      ]
    },
    {
      "cell_type": "code",
      "execution_count": 24,
      "metadata": {},
      "outputs": [],
      "source": [
        "def rnn_loop(char_rnn, batch_ix):\n",
        "    \"\"\"\n",
        "    Computes log P(next_character) for all time-steps in names_ix\n",
        "    :param names_ix: an int32 matrix of shape [batch, time], output of to_matrix(names)\n",
        "    \"\"\"\n",
        "    batch_size, max_length = batch_ix.size()\n",
        "    hid_state = char_rnn.initial_state(batch_size)\n",
        "    logprobs = []\n",
        "\n",
        "    for x_t in batch_ix.transpose(0,1):\n",
        "        hid_state, logp_next = char_rnn(x_t, hid_state)  # <-- here we call your one-step code\n",
        "        logprobs.append(logp_next)\n",
        "        \n",
        "    return torch.stack(logprobs, dim=1)"
      ]
    },
    {
      "cell_type": "code",
      "execution_count": 25,
      "metadata": {},
      "outputs": [],
      "source": [
        "batch_ix = to_matrix(names[:5])\n",
        "batch_ix = torch.tensor(batch_ix, dtype=torch.int64)\n",
        "\n",
        "logp_seq = rnn_loop(char_rnn, batch_ix)\n",
        "\n",
        "assert torch.max(logp_seq).data.numpy() <= 0\n",
        "assert tuple(logp_seq.size()) ==  batch_ix.shape + (num_tokens,)"
      ]
    },
    {
      "cell_type": "markdown",
      "metadata": {
        "colab_type": "text",
        "id": "LwIcKF-Gtwg4"
      },
      "source": [
        "### Likelihood and gradients\n",
        "\n",
        "We can now train our neural network to minimize crossentropy (maximize log-likelihood) with the actual next tokens.\n",
        "\n",
        "To do so in a vectorized manner, we take `batch_ix[:, 1:]` - a matrix of token ids shifted i step to the left so i-th element is acutally the \"next token\" for i-th prediction"
      ]
    },
    {
      "cell_type": "code",
      "execution_count": 26,
      "metadata": {},
      "outputs": [],
      "source": [
        "predictions_logp = logp_seq[:, :-1]\n",
        "actual_next_tokens = batch_ix[:, 1:]\n",
        "\n",
        "logp_next = torch.gather(\n",
        "                            predictions_logp, \n",
        "                            dim=2, \n",
        "                            index=actual_next_tokens[:,:,None]\n",
        "                        ) #Get all the predictions and reshape into required shape\n",
        "\n",
        "loss = -logp_next.mean()"
      ]
    },
    {
      "cell_type": "code",
      "execution_count": 27,
      "metadata": {},
      "outputs": [],
      "source": [
        "loss.backward()"
      ]
    },
    {
      "cell_type": "code",
      "execution_count": 28,
      "metadata": {},
      "outputs": [
        {
          "data": {
            "text/plain": "torch.Size([5, 7, 1])"
          },
          "execution_count": 28,
          "metadata": {},
          "output_type": "execute_result"
        }
      ],
      "source": [
        "logp_next.shape"
      ]
    },
    {
      "cell_type": "code",
      "execution_count": 29,
      "metadata": {},
      "outputs": [],
      "source": [
        "for w in char_rnn.parameters():\n",
        "    assert w.grad is not None and torch.max(torch.abs(w.grad)).data.numpy() != 0, \\\n",
        "        \"Loss is not differentiable w.r.t. a weight with shape %s. Check forward method.\" % (w.size(),)"
      ]
    },
    {
      "cell_type": "markdown",
      "metadata": {
        "colab_type": "text",
        "id": "T1fvsNfdtwhd"
      },
      "source": [
        "### The training loop\n",
        "\n",
        "We train our char-rnn exactly the same way we train any deep learning model: by minibatch sgd.\n",
        "\n",
        "The only difference is that this time we sample strings, not images or sound."
      ]
    },
    {
      "cell_type": "code",
      "execution_count": 39,
      "metadata": {},
      "outputs": [],
      "source": [
        "from torch.optim.lr_scheduler import StepLR"
      ]
    },
    {
      "cell_type": "code",
      "execution_count": 48,
      "metadata": {},
      "outputs": [],
      "source": [
        "from IPython.display import clear_output\n",
        "from random import sample\n",
        "\n",
        "char_rnn = CharRNNCell()\n",
        "opt = torch.optim.Adam(char_rnn.parameters())\n",
        "lr_scheduler = StepLR(opt, step_size = 100,gamma = 0.5)\n",
        "history = []"
      ]
    },
    {
      "cell_type": "code",
      "execution_count": 49,
      "metadata": {},
      "outputs": [
        {
          "data": {
            "image/png": "[encoded data removed]",
            "image/svg+xml": "<?xml version=\"1.0\" encoding=\"utf-8\" standalone=\"no\"?>\n<!DOCTYPE svg PUBLIC \"-//W3C//DTD SVG 1.1//EN\"\n  \"http://www.w3.org/Graphics/SVG/1.1/DTD/svg11.dtd\">\n<!-- Created with matplotlib (https://matplotlib.org/) -->\n<svg height=\"248.518125pt\" version=\"1.1\" viewBox=\"0 0 372.103125 248.518125\" width=\"372.103125pt\" xmlns=\"http://www.w3.org/2000/svg\" xmlns:xlink=\"http://www.w3.org/1999/xlink\">\n <defs>\n  <style type=\"text/css\">\n*{stroke-linecap:butt;stroke-linejoin:round;}\n  </style>\n </defs>\n <g id=\"figure_1\">\n  <g id=\"patch_1\">\n   <path d=\"M 0 248.518125 \nL 372.103125 248.518125 \nL 372.103125 0 \nL 0 0 \nz\n\" style=\"fill:none;\"/>\n  </g>\n  <g id=\"axes_1\">\n   <g id=\"patch_2\">\n    <path d=\"M 30.103125 224.64 \nL 364.903125 224.64 \nL 364.903125 7.2 \nL 30.103125 7.2 \nz\n\" style=\"fill:#ffffff;\"/>\n   </g>\n   <g id=\"matplotlib.axis_1\">\n    <g id=\"xtick_1\">\n     <g id=\"line2d_1\">\n      <defs>\n       <path d=\"M 0 0 \nL 0 3.5 \n\" id=\"m1b2add3ddb\" style=\"stroke:#000000;stroke-width:0.8;\"/>\n      </defs>\n      <g>\n       <use style=\"stroke:#000000;stroke-width:0.8;\" x=\"45.321307\" xlink:href=\"#m1b2add3ddb\" y=\"224.64\"/>\n      </g>\n     </g>\n     <g id=\"text_1\">\n      <!-- 0 -->\n      <defs>\n       <path d=\"M 31.78125 66.40625 \nQ 24.171875 66.40625 20.328125 58.90625 \nQ 16.5 51.421875 16.5 36.375 \nQ 16.5 21.390625 20.328125 13.890625 \nQ 24.171875 6.390625 31.78125 6.390625 \nQ 39.453125 6.390625 43.28125 13.890625 \nQ 47.125 21.390625 47.125 36.375 \nQ 47.125 51.421875 43.28125 58.90625 \nQ 39.453125 66.40625 31.78125 66.40625 \nz\nM 31.78125 74.21875 \nQ 44.046875 74.21875 50.515625 64.515625 \nQ 56.984375 54.828125 56.984375 36.375 \nQ 56.984375 17.96875 50.515625 8.265625 \nQ 44.046875 -1.421875 31.78125 -1.421875 \nQ 19.53125 -1.421875 13.0625 8.265625 \nQ 6.59375 17.96875 6.59375 36.375 \nQ 6.59375 54.828125 13.0625 64.515625 \nQ 19.53125 74.21875 31.78125 74.21875 \nz\n\" id=\"DejaVuSans-48\"/>\n      </defs>\n      <g transform=\"translate(42.140057 239.238437)scale(0.1 -0.1)\">\n       <use xlink:href=\"#DejaVuSans-48\"/>\n      </g>\n     </g>\n    </g>\n    <g id=\"xtick_2\">\n     <g id=\"line2d_2\">\n      <g>\n       <use style=\"stroke:#000000;stroke-width:0.8;\" x=\"106.254968\" xlink:href=\"#m1b2add3ddb\" y=\"224.64\"/>\n      </g>\n     </g>\n     <g id=\"text_2\">\n      <!-- 200 -->\n      <defs>\n       <path d=\"M 19.1875 8.296875 \nL 53.609375 8.296875 \nL 53.609375 0 \nL 7.328125 0 \nL 7.328125 8.296875 \nQ 12.9375 14.109375 22.625 23.890625 \nQ 32.328125 33.6875 34.8125 36.53125 \nQ 39.546875 41.84375 41.421875 45.53125 \nQ 43.3125 49.21875 43.3125 52.78125 \nQ 43.3125 58.59375 39.234375 62.25 \nQ 35.15625 65.921875 28.609375 65.921875 \nQ 23.96875 65.921875 18.8125 64.3125 \nQ 13.671875 62.703125 7.8125 59.421875 \nL 7.8125 69.390625 \nQ 13.765625 71.78125 18.9375 73 \nQ 24.125 74.21875 28.421875 74.21875 \nQ 39.75 74.21875 46.484375 68.546875 \nQ 53.21875 62.890625 53.21875 53.421875 \nQ 53.21875 48.921875 51.53125 44.890625 \nQ 49.859375 40.875 45.40625 35.40625 \nQ 44.1875 33.984375 37.640625 27.21875 \nQ 31.109375 20.453125 19.1875 8.296875 \nz\n\" id=\"DejaVuSans-50\"/>\n      </defs>\n      <g transform=\"translate(96.711218 239.238437)scale(0.1 -0.1)\">\n       <use xlink:href=\"#DejaVuSans-50\"/>\n       <use x=\"63.623047\" xlink:href=\"#DejaVuSans-48\"/>\n       <use x=\"127.246094\" xlink:href=\"#DejaVuSans-48\"/>\n      </g>\n     </g>\n    </g>\n    <g id=\"xtick_3\">\n     <g id=\"line2d_3\">\n      <g>\n       <use style=\"stroke:#000000;stroke-width:0.8;\" x=\"167.188629\" xlink:href=\"#m1b2add3ddb\" y=\"224.64\"/>\n      </g>\n     </g>\n     <g id=\"text_3\">\n      <!-- 400 -->\n      <defs>\n       <path d=\"M 37.796875 64.3125 \nL 12.890625 25.390625 \nL 37.796875 25.390625 \nz\nM 35.203125 72.90625 \nL 47.609375 72.90625 \nL 47.609375 25.390625 \nL 58.015625 25.390625 \nL 58.015625 17.1875 \nL 47.609375 17.1875 \nL 47.609375 0 \nL 37.796875 0 \nL 37.796875 17.1875 \nL 4.890625 17.1875 \nL 4.890625 26.703125 \nz\n\" id=\"DejaVuSans-52\"/>\n      </defs>\n      <g transform=\"translate(157.644879 239.238437)scale(0.1 -0.1)\">\n       <use xlink:href=\"#DejaVuSans-52\"/>\n       <use x=\"63.623047\" xlink:href=\"#DejaVuSans-48\"/>\n       <use x=\"127.246094\" xlink:href=\"#DejaVuSans-48\"/>\n      </g>\n     </g>\n    </g>\n    <g id=\"xtick_4\">\n     <g id=\"line2d_4\">\n      <g>\n       <use style=\"stroke:#000000;stroke-width:0.8;\" x=\"228.12229\" xlink:href=\"#m1b2add3ddb\" y=\"224.64\"/>\n      </g>\n     </g>\n     <g id=\"text_4\">\n      <!-- 600 -->\n      <defs>\n       <path d=\"M 33.015625 40.375 \nQ 26.375 40.375 22.484375 35.828125 \nQ 18.609375 31.296875 18.609375 23.390625 \nQ 18.609375 15.53125 22.484375 10.953125 \nQ 26.375 6.390625 33.015625 6.390625 \nQ 39.65625 6.390625 43.53125 10.953125 \nQ 47.40625 15.53125 47.40625 23.390625 \nQ 47.40625 31.296875 43.53125 35.828125 \nQ 39.65625 40.375 33.015625 40.375 \nz\nM 52.59375 71.296875 \nL 52.59375 62.3125 \nQ 48.875 64.0625 45.09375 64.984375 \nQ 41.3125 65.921875 37.59375 65.921875 \nQ 27.828125 65.921875 22.671875 59.328125 \nQ 17.53125 52.734375 16.796875 39.40625 \nQ 19.671875 43.65625 24.015625 45.921875 \nQ 28.375 48.1875 33.59375 48.1875 \nQ 44.578125 48.1875 50.953125 41.515625 \nQ 57.328125 34.859375 57.328125 23.390625 \nQ 57.328125 12.15625 50.6875 5.359375 \nQ 44.046875 -1.421875 33.015625 -1.421875 \nQ 20.359375 -1.421875 13.671875 8.265625 \nQ 6.984375 17.96875 6.984375 36.375 \nQ 6.984375 53.65625 15.1875 63.9375 \nQ 23.390625 74.21875 37.203125 74.21875 \nQ 40.921875 74.21875 44.703125 73.484375 \nQ 48.484375 72.75 52.59375 71.296875 \nz\n\" id=\"DejaVuSans-54\"/>\n      </defs>\n      <g transform=\"translate(218.57854 239.238437)scale(0.1 -0.1)\">\n       <use xlink:href=\"#DejaVuSans-54\"/>\n       <use x=\"63.623047\" xlink:href=\"#DejaVuSans-48\"/>\n       <use x=\"127.246094\" xlink:href=\"#DejaVuSans-48\"/>\n      </g>\n     </g>\n    </g>\n    <g id=\"xtick_5\">\n     <g id=\"line2d_5\">\n      <g>\n       <use style=\"stroke:#000000;stroke-width:0.8;\" x=\"289.055951\" xlink:href=\"#m1b2add3ddb\" y=\"224.64\"/>\n      </g>\n     </g>\n     <g id=\"text_5\">\n      <!-- 800 -->\n      <defs>\n       <path d=\"M 31.78125 34.625 \nQ 24.75 34.625 20.71875 30.859375 \nQ 16.703125 27.09375 16.703125 20.515625 \nQ 16.703125 13.921875 20.71875 10.15625 \nQ 24.75 6.390625 31.78125 6.390625 \nQ 38.8125 6.390625 42.859375 10.171875 \nQ 46.921875 13.96875 46.921875 20.515625 \nQ 46.921875 27.09375 42.890625 30.859375 \nQ 38.875 34.625 31.78125 34.625 \nz\nM 21.921875 38.8125 \nQ 15.578125 40.375 12.03125 44.71875 \nQ 8.5 49.078125 8.5 55.328125 \nQ 8.5 64.0625 14.71875 69.140625 \nQ 20.953125 74.21875 31.78125 74.21875 \nQ 42.671875 74.21875 48.875 69.140625 \nQ 55.078125 64.0625 55.078125 55.328125 \nQ 55.078125 49.078125 51.53125 44.71875 \nQ 48 40.375 41.703125 38.8125 \nQ 48.828125 37.15625 52.796875 32.3125 \nQ 56.78125 27.484375 56.78125 20.515625 \nQ 56.78125 9.90625 50.3125 4.234375 \nQ 43.84375 -1.421875 31.78125 -1.421875 \nQ 19.734375 -1.421875 13.25 4.234375 \nQ 6.78125 9.90625 6.78125 20.515625 \nQ 6.78125 27.484375 10.78125 32.3125 \nQ 14.796875 37.15625 21.921875 38.8125 \nz\nM 18.3125 54.390625 \nQ 18.3125 48.734375 21.84375 45.5625 \nQ 25.390625 42.390625 31.78125 42.390625 \nQ 38.140625 42.390625 41.71875 45.5625 \nQ 45.3125 48.734375 45.3125 54.390625 \nQ 45.3125 60.0625 41.71875 63.234375 \nQ 38.140625 66.40625 31.78125 66.40625 \nQ 25.390625 66.40625 21.84375 63.234375 \nQ 18.3125 60.0625 18.3125 54.390625 \nz\n\" id=\"DejaVuSans-56\"/>\n      </defs>\n      <g transform=\"translate(279.512201 239.238437)scale(0.1 -0.1)\">\n       <use xlink:href=\"#DejaVuSans-56\"/>\n       <use x=\"63.623047\" xlink:href=\"#DejaVuSans-48\"/>\n       <use x=\"127.246094\" xlink:href=\"#DejaVuSans-48\"/>\n      </g>\n     </g>\n    </g>\n    <g id=\"xtick_6\">\n     <g id=\"line2d_6\">\n      <g>\n       <use style=\"stroke:#000000;stroke-width:0.8;\" x=\"349.989611\" xlink:href=\"#m1b2add3ddb\" y=\"224.64\"/>\n      </g>\n     </g>\n     <g id=\"text_6\">\n      <!-- 1000 -->\n      <defs>\n       <path d=\"M 12.40625 8.296875 \nL 28.515625 8.296875 \nL 28.515625 63.921875 \nL 10.984375 60.40625 \nL 10.984375 69.390625 \nL 28.421875 72.90625 \nL 38.28125 72.90625 \nL 38.28125 8.296875 \nL 54.390625 8.296875 \nL 54.390625 0 \nL 12.40625 0 \nz\n\" id=\"DejaVuSans-49\"/>\n      </defs>\n      <g transform=\"translate(337.264611 239.238437)scale(0.1 -0.1)\">\n       <use xlink:href=\"#DejaVuSans-49\"/>\n       <use x=\"63.623047\" xlink:href=\"#DejaVuSans-48\"/>\n       <use x=\"127.246094\" xlink:href=\"#DejaVuSans-48\"/>\n       <use x=\"190.869141\" xlink:href=\"#DejaVuSans-48\"/>\n      </g>\n     </g>\n    </g>\n   </g>\n   <g id=\"matplotlib.axis_2\">\n    <g id=\"ytick_1\">\n     <g id=\"line2d_7\">\n      <defs>\n       <path d=\"M 0 0 \nL -3.5 0 \n\" id=\"m67b20b52a8\" style=\"stroke:#000000;stroke-width:0.8;\"/>\n      </defs>\n      <g>\n       <use style=\"stroke:#000000;stroke-width:0.8;\" x=\"30.103125\" xlink:href=\"#m67b20b52a8\" y=\"219.226406\"/>\n      </g>\n     </g>\n     <g id=\"text_7\">\n      <!-- 1.0 -->\n      <defs>\n       <path d=\"M 10.6875 12.40625 \nL 21 12.40625 \nL 21 0 \nL 10.6875 0 \nz\n\" id=\"DejaVuSans-46\"/>\n      </defs>\n      <g transform=\"translate(7.2 223.025625)scale(0.1 -0.1)\">\n       <use xlink:href=\"#DejaVuSans-49\"/>\n       <use x=\"63.623047\" xlink:href=\"#DejaVuSans-46\"/>\n       <use x=\"95.410156\" xlink:href=\"#DejaVuSans-48\"/>\n      </g>\n     </g>\n    </g>\n    <g id=\"ytick_2\">\n     <g id=\"line2d_8\">\n      <g>\n       <use style=\"stroke:#000000;stroke-width:0.8;\" x=\"30.103125\" xlink:href=\"#m67b20b52a8\" y=\"185.48676\"/>\n      </g>\n     </g>\n     <g id=\"text_8\">\n      <!-- 1.5 -->\n      <defs>\n       <path d=\"M 10.796875 72.90625 \nL 49.515625 72.90625 \nL 49.515625 64.59375 \nL 19.828125 64.59375 \nL 19.828125 46.734375 \nQ 21.96875 47.46875 24.109375 47.828125 \nQ 26.265625 48.1875 28.421875 48.1875 \nQ 40.625 48.1875 47.75 41.5 \nQ 54.890625 34.8125 54.890625 23.390625 \nQ 54.890625 11.625 47.5625 5.09375 \nQ 40.234375 -1.421875 26.90625 -1.421875 \nQ 22.3125 -1.421875 17.546875 -0.640625 \nQ 12.796875 0.140625 7.71875 1.703125 \nL 7.71875 11.625 \nQ 12.109375 9.234375 16.796875 8.0625 \nQ 21.484375 6.890625 26.703125 6.890625 \nQ 35.15625 6.890625 40.078125 11.328125 \nQ 45.015625 15.765625 45.015625 23.390625 \nQ 45.015625 31 40.078125 35.4375 \nQ 35.15625 39.890625 26.703125 39.890625 \nQ 22.75 39.890625 18.8125 39.015625 \nQ 14.890625 38.140625 10.796875 36.28125 \nz\n\" id=\"DejaVuSans-53\"/>\n      </defs>\n      <g transform=\"translate(7.2 189.285978)scale(0.1 -0.1)\">\n       <use xlink:href=\"#DejaVuSans-49\"/>\n       <use x=\"63.623047\" xlink:href=\"#DejaVuSans-46\"/>\n       <use x=\"95.410156\" xlink:href=\"#DejaVuSans-53\"/>\n      </g>\n     </g>\n    </g>\n    <g id=\"ytick_3\">\n     <g id=\"line2d_9\">\n      <g>\n       <use style=\"stroke:#000000;stroke-width:0.8;\" x=\"30.103125\" xlink:href=\"#m67b20b52a8\" y=\"151.747113\"/>\n      </g>\n     </g>\n     <g id=\"text_9\">\n      <!-- 2.0 -->\n      <g transform=\"translate(7.2 155.546332)scale(0.1 -0.1)\">\n       <use xlink:href=\"#DejaVuSans-50\"/>\n       <use x=\"63.623047\" xlink:href=\"#DejaVuSans-46\"/>\n       <use x=\"95.410156\" xlink:href=\"#DejaVuSans-48\"/>\n      </g>\n     </g>\n    </g>\n    <g id=\"ytick_4\">\n     <g id=\"line2d_10\">\n      <g>\n       <use style=\"stroke:#000000;stroke-width:0.8;\" x=\"30.103125\" xlink:href=\"#m67b20b52a8\" y=\"118.007467\"/>\n      </g>\n     </g>\n     <g id=\"text_10\">\n      <!-- 2.5 -->\n      <g transform=\"translate(7.2 121.806686)scale(0.1 -0.1)\">\n       <use xlink:href=\"#DejaVuSans-50\"/>\n       <use x=\"63.623047\" xlink:href=\"#DejaVuSans-46\"/>\n       <use x=\"95.410156\" xlink:href=\"#DejaVuSans-53\"/>\n      </g>\n     </g>\n    </g>\n    <g id=\"ytick_5\">\n     <g id=\"line2d_11\">\n      <g>\n       <use style=\"stroke:#000000;stroke-width:0.8;\" x=\"30.103125\" xlink:href=\"#m67b20b52a8\" y=\"84.267821\"/>\n      </g>\n     </g>\n     <g id=\"text_11\">\n      <!-- 3.0 -->\n      <defs>\n       <path d=\"M 40.578125 39.3125 \nQ 47.65625 37.796875 51.625 33 \nQ 55.609375 28.21875 55.609375 21.1875 \nQ 55.609375 10.40625 48.1875 4.484375 \nQ 40.765625 -1.421875 27.09375 -1.421875 \nQ 22.515625 -1.421875 17.65625 -0.515625 \nQ 12.796875 0.390625 7.625 2.203125 \nL 7.625 11.71875 \nQ 11.71875 9.328125 16.59375 8.109375 \nQ 21.484375 6.890625 26.8125 6.890625 \nQ 36.078125 6.890625 40.9375 10.546875 \nQ 45.796875 14.203125 45.796875 21.1875 \nQ 45.796875 27.640625 41.28125 31.265625 \nQ 36.765625 34.90625 28.71875 34.90625 \nL 20.21875 34.90625 \nL 20.21875 43.015625 \nL 29.109375 43.015625 \nQ 36.375 43.015625 40.234375 45.921875 \nQ 44.09375 48.828125 44.09375 54.296875 \nQ 44.09375 59.90625 40.109375 62.90625 \nQ 36.140625 65.921875 28.71875 65.921875 \nQ 24.65625 65.921875 20.015625 65.03125 \nQ 15.375 64.15625 9.8125 62.3125 \nL 9.8125 71.09375 \nQ 15.4375 72.65625 20.34375 73.4375 \nQ 25.25 74.21875 29.59375 74.21875 \nQ 40.828125 74.21875 47.359375 69.109375 \nQ 53.90625 64.015625 53.90625 55.328125 \nQ 53.90625 49.265625 50.4375 45.09375 \nQ 46.96875 40.921875 40.578125 39.3125 \nz\n\" id=\"DejaVuSans-51\"/>\n      </defs>\n      <g transform=\"translate(7.2 88.06704)scale(0.1 -0.1)\">\n       <use xlink:href=\"#DejaVuSans-51\"/>\n       <use x=\"63.623047\" xlink:href=\"#DejaVuSans-46\"/>\n       <use x=\"95.410156\" xlink:href=\"#DejaVuSans-48\"/>\n      </g>\n     </g>\n    </g>\n    <g id=\"ytick_6\">\n     <g id=\"line2d_12\">\n      <g>\n       <use style=\"stroke:#000000;stroke-width:0.8;\" x=\"30.103125\" xlink:href=\"#m67b20b52a8\" y=\"50.528175\"/>\n      </g>\n     </g>\n     <g id=\"text_12\">\n      <!-- 3.5 -->\n      <g transform=\"translate(7.2 54.327393)scale(0.1 -0.1)\">\n       <use xlink:href=\"#DejaVuSans-51\"/>\n       <use x=\"63.623047\" xlink:href=\"#DejaVuSans-46\"/>\n       <use x=\"95.410156\" xlink:href=\"#DejaVuSans-53\"/>\n      </g>\n     </g>\n    </g>\n    <g id=\"ytick_7\">\n     <g id=\"line2d_13\">\n      <g>\n       <use style=\"stroke:#000000;stroke-width:0.8;\" x=\"30.103125\" xlink:href=\"#m67b20b52a8\" y=\"16.788528\"/>\n      </g>\n     </g>\n     <g id=\"text_13\">\n      <!-- 4.0 -->\n      <g transform=\"translate(7.2 20.587747)scale(0.1 -0.1)\">\n       <use xlink:href=\"#DejaVuSans-52\"/>\n       <use x=\"63.623047\" xlink:href=\"#DejaVuSans-46\"/>\n       <use x=\"95.410156\" xlink:href=\"#DejaVuSans-48\"/>\n      </g>\n     </g>\n    </g>\n   </g>\n   <g id=\"line2d_14\">\n    <path clip-path=\"url(#p4570ff26a0)\" d=\"M 45.321307 17.083636 \nL 48.672658 64.903906 \nL 49.281995 79.318331 \nL 50.500668 101.817874 \nL 50.805336 111.71227 \nL 51.110005 114.459141 \nL 51.414673 127.746176 \nL 51.719341 127.297585 \nL 52.328678 147.103913 \nL 52.938014 152.818177 \nL 53.242683 161.226857 \nL 53.547351 166.245133 \nL 53.852019 158.857884 \nL 54.156688 166.977344 \nL 54.461356 163.870312 \nL 54.766024 158.3741 \nL 55.070693 165.845772 \nL 55.375361 160.965148 \nL 55.680029 158.061802 \nL 55.984697 162.165184 \nL 56.289366 163.004157 \nL 56.594034 162.234066 \nL 56.898702 172.316904 \nL 57.203371 178.099246 \nL 57.508039 164.803756 \nL 57.812707 168.266179 \nL 58.117376 157.621014 \nL 58.422044 168.474595 \nL 58.726712 172.678352 \nL 59.031381 169.98343 \nL 59.336049 182.440059 \nL 59.640717 170.786551 \nL 59.945385 176.974182 \nL 60.250054 168.174146 \nL 60.85939 178.220318 \nL 61.164059 176.671544 \nL 61.468727 176.750104 \nL 61.773395 174.884519 \nL 62.078064 182.145884 \nL 62.382732 183.669681 \nL 62.992068 176.598375 \nL 63.296737 178.465287 \nL 63.601405 175.107261 \nL 63.906073 183.771512 \nL 64.210742 177.492153 \nL 64.51541 184.672618 \nL 64.820078 182.378344 \nL 65.124747 181.828019 \nL 65.429415 183.076577 \nL 65.734083 183.461562 \nL 66.038752 180.643525 \nL 66.648088 191.562649 \nL 66.952756 183.443978 \nL 67.257425 184.938196 \nL 67.562093 188.132556 \nL 67.866761 178.255021 \nL 68.17143 187.036129 \nL 68.476098 187.473369 \nL 68.780766 184.69737 \nL 69.085435 191.130815 \nL 69.390103 185.588856 \nL 69.694771 182.643327 \nL 69.999439 190.97393 \nL 70.304108 182.289255 \nL 70.608776 188.714937 \nL 70.913444 187.117182 \nL 71.218113 186.161496 \nL 71.522781 187.212192 \nL 71.827449 182.300171 \nL 72.132118 188.20209 \nL 72.436786 185.144819 \nL 72.741454 187.235439 \nL 73.046123 192.926649 \nL 73.350791 189.737502 \nL 73.655459 189.312425 \nL 73.960127 186.34878 \nL 74.264796 200.331305 \nL 74.874132 187.33036 \nL 75.178801 190.799597 \nL 75.483469 192.557117 \nL 75.788137 184.1147 \nL 76.092806 195.252167 \nL 76.397474 192.474857 \nL 76.702142 184.648743 \nL 77.006811 188.25457 \nL 77.311479 195.438759 \nL 77.616147 196.000057 \nL 77.920815 181.423325 \nL 78.225484 194.067705 \nL 78.530152 184.066998 \nL 78.83482 192.741271 \nL 79.139489 187.885616 \nL 79.444157 194.487425 \nL 79.748825 192.410898 \nL 80.053494 196.746546 \nL 80.358162 192.930341 \nL 80.66283 195.239321 \nL 80.967498 189.433642 \nL 81.272167 195.869226 \nL 81.576835 191.484106 \nL 81.881503 192.444321 \nL 82.186172 186.506622 \nL 82.49084 193.725595 \nL 82.795508 192.508972 \nL 83.100177 189.756285 \nL 83.404845 193.346313 \nL 83.709513 194.684788 \nL 84.014182 193.37392 \nL 84.31885 200.231228 \nL 84.623518 195.654986 \nL 84.928186 195.380906 \nL 85.232855 193.019487 \nL 85.537523 185.610752 \nL 85.842191 196.24036 \nL 86.14686 192.989353 \nL 86.451528 200.013794 \nL 86.756196 195.772423 \nL 87.060865 199.032053 \nL 87.365533 199.780867 \nL 87.670201 189.486621 \nL 87.974869 200.538217 \nL 88.279538 196.695249 \nL 88.584206 198.504219 \nL 88.888874 190.941069 \nL 89.193543 200.783137 \nL 89.498211 195.493958 \nL 89.802879 193.338816 \nL 90.107548 198.486868 \nL 90.716884 189.342944 \nL 91.021553 196.253946 \nL 91.326221 189.264715 \nL 91.630889 195.241243 \nL 91.935557 197.253288 \nL 92.240226 191.016001 \nL 92.544894 197.001578 \nL 92.849562 199.234009 \nL 93.154231 195.429581 \nL 93.458899 197.326892 \nL 93.763567 195.114153 \nL 94.068236 198.43368 \nL 94.372904 197.247754 \nL 94.677572 194.429427 \nL 94.98224 203.614681 \nL 95.286909 199.300132 \nL 95.591577 193.371531 \nL 95.896245 195.164454 \nL 96.200914 199.832165 \nL 96.505582 197.868771 \nL 96.81025 193.060608 \nL 97.114919 200.651792 \nL 97.419587 194.941912 \nL 97.724255 194.822006 \nL 98.028924 203.917101 \nL 98.333592 203.163661 \nL 98.63826 194.562517 \nL 98.942928 212.448897 \nL 99.247597 198.415026 \nL 99.552265 199.627144 \nL 100.161602 203.69164 \nL 100.46627 201.261137 \nL 100.770938 204.045293 \nL 101.075607 197.142504 \nL 101.380275 198.122411 \nL 102.29428 191.794941 \nL 102.598948 191.812461 \nL 102.903616 204.732666 \nL 103.208285 191.900995 \nL 103.512953 199.942185 \nL 103.817621 182.485235 \nL 104.12229 196.175081 \nL 104.426958 201.685483 \nL 104.731626 199.843837 \nL 105.036295 201.667633 \nL 105.340963 195.928665 \nL 105.645631 198.286858 \nL 106.254968 196.832981 \nL 106.559636 200.493966 \nL 106.864304 193.785081 \nL 107.473641 203.88511 \nL 107.778309 196.534108 \nL 108.082978 205.110388 \nL 108.387646 195.927482 \nL 108.692314 206.269406 \nL 108.996982 200.216298 \nL 109.301651 205.333436 \nL 109.606319 199.662465 \nL 110.215656 204.813735 \nL 110.824992 197.367716 \nL 111.129661 200.706187 \nL 111.434329 190.871857 \nL 111.738997 201.200726 \nL 112.043666 201.075526 \nL 112.348334 199.810735 \nL 112.653002 205.24092 \nL 112.95767 195.151792 \nL 113.262339 194.006143 \nL 113.567007 204.429016 \nL 113.871675 197.136616 \nL 114.176344 205.005991 \nL 114.481012 193.113925 \nL 114.78568 205.354528 \nL 115.090349 202.52946 \nL 115.395017 201.407831 \nL 115.699685 202.174519 \nL 116.004354 190.865333 \nL 116.309022 200.279637 \nL 116.61369 202.549796 \nL 116.918358 208.206223 \nL 117.223027 209.942675 \nL 117.527695 198.774857 \nL 117.832363 206.671655 \nL 118.137032 205.825481 \nL 118.4417 202.607086 \nL 118.746368 202.93104 \nL 119.051037 203.579383 \nL 119.355705 198.039999 \nL 119.660373 203.683411 \nL 119.965041 192.165101 \nL 120.574378 196.383031 \nL 120.879046 193.571316 \nL 121.183715 199.566861 \nL 121.488383 198.544858 \nL 121.793051 198.702532 \nL 122.09772 199.481488 \nL 122.402388 199.926258 \nL 122.707056 195.426548 \nL 123.011725 201.725189 \nL 123.316393 201.516459 \nL 123.621061 198.625091 \nL 123.925729 198.674884 \nL 124.230398 207.443717 \nL 124.535066 206.954206 \nL 124.839734 197.439197 \nL 125.144403 196.298262 \nL 125.449071 202.326192 \nL 125.753739 205.969971 \nL 126.363076 195.837082 \nL 126.667744 198.476193 \nL 126.972412 206.147891 \nL 127.277081 202.107632 \nL 127.581749 203.259853 \nL 127.886417 194.155193 \nL 128.191086 201.912803 \nL 128.495754 202.290934 \nL 128.800422 203.123473 \nL 129.105091 198.56694 \nL 129.409759 199.748071 \nL 129.714427 208.153952 \nL 130.019096 198.849346 \nL 130.323764 203.873341 \nL 130.628432 204.655764 \nL 130.9331 202.484855 \nL 131.237769 201.294014 \nL 131.542437 197.672164 \nL 131.847105 200.85276 \nL 132.151774 206.07193 \nL 132.456442 201.723701 \nL 132.76111 205.129678 \nL 133.065779 201.006918 \nL 133.370447 199.164074 \nL 133.675115 206.702327 \nL 133.979783 207.032202 \nL 134.284452 210.344111 \nL 134.58912 211.309554 \nL 134.893788 193.070044 \nL 135.198457 196.794096 \nL 135.503125 198.651323 \nL 135.807793 202.178694 \nL 136.112462 199.098948 \nL 136.721798 205.907733 \nL 137.026467 201.660144 \nL 137.331135 200.165595 \nL 137.635803 201.315653 \nL 137.940471 201.068633 \nL 138.24514 200.462626 \nL 138.549808 204.703957 \nL 138.854476 201.497008 \nL 139.159145 204.392905 \nL 139.463813 200.493564 \nL 139.768481 199.797873 \nL 140.07315 201.094012 \nL 140.377818 203.39522 \nL 140.682486 198.229785 \nL 140.987154 207.629263 \nL 141.291823 199.695736 \nL 141.596491 199.184103 \nL 141.901159 205.355316 \nL 142.205828 204.052533 \nL 142.510496 200.043131 \nL 142.815164 201.740706 \nL 143.119833 207.137918 \nL 143.424501 201.965323 \nL 143.729169 201.067965 \nL 144.033838 205.123516 \nL 144.338506 206.432767 \nL 144.643174 198.738956 \nL 144.947842 201.538387 \nL 145.557179 198.02885 \nL 145.861847 200.192334 \nL 146.166516 195.489462 \nL 146.471184 206.772134 \nL 146.775852 204.164411 \nL 147.080521 199.170766 \nL 147.385189 196.074546 \nL 147.689857 207.628387 \nL 147.994525 202.653026 \nL 148.299194 205.081075 \nL 148.603862 200.368582 \nL 148.90853 203.351517 \nL 149.213199 204.948749 \nL 149.517867 203.957604 \nL 149.822535 198.747861 \nL 150.431872 206.572655 \nL 150.73654 206.464751 \nL 151.041209 198.971939 \nL 151.345877 202.713148 \nL 151.650545 208.360027 \nL 151.955213 201.364392 \nL 152.259882 204.915229 \nL 152.56455 198.98822 \nL 152.869218 200.268738 \nL 153.173887 202.655029 \nL 153.478555 203.083606 \nL 153.783223 205.167622 \nL 154.087892 200.90709 \nL 154.39256 203.23408 \nL 154.697228 199.734042 \nL 155.001896 203.104127 \nL 155.306565 204.737227 \nL 155.611233 198.849177 \nL 155.915901 206.194708 \nL 156.22057 205.786902 \nL 156.525238 206.70005 \nL 156.829906 201.250165 \nL 157.439243 207.469096 \nL 157.743911 206.955501 \nL 158.04858 199.09968 \nL 158.353248 205.914876 \nL 158.657916 205.507078 \nL 158.962584 201.823617 \nL 159.267253 205.920941 \nL 159.571921 206.791762 \nL 159.876589 202.079446 \nL 160.181258 209.125606 \nL 160.485926 193.249791 \nL 160.790594 212.254461 \nL 161.399931 200.294954 \nL 161.704599 200.168644 \nL 162.009268 199.401851 \nL 162.313936 203.455503 \nL 162.618604 205.175891 \nL 162.923272 198.681223 \nL 163.837277 207.355786 \nL 164.141946 199.144172 \nL 164.446614 196.725004 \nL 164.751282 202.239798 \nL 165.055951 204.331794 \nL 165.360619 197.572963 \nL 165.969955 209.776137 \nL 166.274624 211.652501 \nL 166.579292 200.124659 \nL 166.88396 208.990906 \nL 167.188629 206.981821 \nL 167.493297 196.861859 \nL 167.797965 208.181221 \nL 168.102634 207.248863 \nL 168.407302 207.919424 \nL 168.71197 195.790249 \nL 169.016639 201.879846 \nL 169.321307 203.658828 \nL 169.625975 214.756364 \nL 169.930643 205.519594 \nL 170.235312 205.048882 \nL 170.844648 198.040457 \nL 171.149317 208.999851 \nL 171.453985 205.647311 \nL 171.758653 207.288666 \nL 172.063322 201.098645 \nL 172.36799 204.105375 \nL 172.672658 204.426554 \nL 172.977326 201.043913 \nL 173.281995 205.298042 \nL 173.586663 205.862758 \nL 173.891331 199.58381 \nL 174.196 203.204807 \nL 174.500668 197.73017 \nL 174.805336 200.602265 \nL 175.110005 201.405643 \nL 175.414673 201.523055 \nL 175.719341 206.110615 \nL 176.02401 199.988761 \nL 176.328678 205.1177 \nL 176.633346 203.55472 \nL 176.938014 207.054315 \nL 177.242683 205.620203 \nL 177.547351 207.607584 \nL 177.852019 204.436464 \nL 178.156688 204.315697 \nL 178.461356 206.604059 \nL 178.766024 207.541325 \nL 179.070693 202.378495 \nL 179.375361 203.207043 \nL 179.680029 200.086803 \nL 179.984697 204.580994 \nL 180.289366 206.908772 \nL 180.594034 202.355408 \nL 180.898702 201.768772 \nL 181.203371 203.814908 \nL 181.508039 198.335919 \nL 181.812707 203.939834 \nL 182.117376 200.184547 \nL 182.422044 198.811064 \nL 182.726712 210.645445 \nL 183.031381 197.422883 \nL 183.336049 193.585932 \nL 183.640717 207.245509 \nL 183.945385 205.429138 \nL 184.554722 198.003052 \nL 184.85939 200.537227 \nL 185.164059 207.216357 \nL 185.468727 201.166731 \nL 185.773395 201.23822 \nL 186.078064 204.844617 \nL 186.382732 199.939756 \nL 186.6874 203.473088 \nL 186.992068 202.512808 \nL 187.296737 208.094996 \nL 187.601405 200.778882 \nL 187.906073 200.268166 \nL 188.210742 207.883974 \nL 188.51541 200.575469 \nL 188.820078 205.013649 \nL 189.124747 203.143937 \nL 189.429415 207.382573 \nL 189.734083 195.52821 \nL 190.038752 200.632229 \nL 190.34342 199.842228 \nL 190.648088 206.123188 \nL 190.952756 204.213939 \nL 191.257425 197.714806 \nL 191.562093 198.384667 \nL 191.866761 200.903116 \nL 192.17143 199.941646 \nL 192.476098 205.315144 \nL 192.780766 195.248805 \nL 193.085435 209.034015 \nL 193.390103 207.709303 \nL 193.694771 195.846341 \nL 193.999439 208.162792 \nL 194.304108 205.863297 \nL 194.608776 209.042525 \nL 194.913444 208.145368 \nL 195.218113 205.162916 \nL 195.522781 206.680873 \nL 195.827449 202.363742 \nL 196.132118 199.632034 \nL 196.436786 199.056411 \nL 196.741454 203.025672 \nL 197.350791 205.572839 \nL 197.655459 201.530906 \nL 197.960127 204.591194 \nL 198.264796 200.50896 \nL 198.569464 206.496067 \nL 198.874132 197.261863 \nL 199.178801 201.391501 \nL 199.483469 195.027132 \nL 199.788137 199.191786 \nL 200.092806 205.353852 \nL 200.397474 206.219452 \nL 200.702142 205.952346 \nL 201.006811 203.722939 \nL 201.311479 204.870358 \nL 201.616147 202.176603 \nL 201.920815 205.182343 \nL 202.225484 200.006458 \nL 202.530152 205.530985 \nL 203.139489 209.50068 \nL 203.444157 204.587984 \nL 203.748825 202.644121 \nL 204.053494 203.422764 \nL 204.66283 200.329286 \nL 204.967498 202.143171 \nL 205.272167 193.83724 \nL 205.576835 201.096055 \nL 205.881503 198.838494 \nL 206.186172 200.947898 \nL 206.49084 207.153484 \nL 206.795508 197.041019 \nL 207.404845 208.867074 \nL 207.709513 202.183569 \nL 208.31885 198.290478 \nL 208.623518 206.004335 \nL 208.928186 209.622147 \nL 209.232855 200.100969 \nL 209.537523 204.973299 \nL 209.842191 199.038866 \nL 210.14686 204.294557 \nL 210.451528 206.592186 \nL 210.756196 202.565457 \nL 211.060865 200.415576 \nL 211.365533 204.956503 \nL 211.670201 198.744732 \nL 211.974869 204.147937 \nL 212.279538 198.58495 \nL 212.888874 206.109287 \nL 213.193543 203.096348 \nL 213.498211 205.735226 \nL 213.802879 212.553326 \nL 214.107548 211.421087 \nL 214.412216 202.986987 \nL 214.716884 201.844886 \nL 215.021553 205.639171 \nL 215.326221 203.117842 \nL 215.935557 206.984098 \nL 216.240226 207.651707 \nL 216.544894 204.832004 \nL 216.849562 206.102297 \nL 217.154231 200.485109 \nL 217.458899 202.173538 \nL 217.763567 202.956026 \nL 218.068236 201.694814 \nL 218.372904 205.365042 \nL 218.677572 204.240211 \nL 218.98224 206.234768 \nL 219.286909 203.706554 \nL 219.591577 205.241435 \nL 219.896245 207.737361 \nL 220.200914 206.804399 \nL 220.505582 204.860818 \nL 220.81025 201.578681 \nL 221.114919 206.904839 \nL 221.419587 203.467151 \nL 221.724255 207.071248 \nL 222.028924 206.985658 \nL 222.333592 210.064978 \nL 222.63826 204.909944 \nL 222.942928 209.473716 \nL 223.247597 197.303444 \nL 223.856933 203.609589 \nL 224.161602 205.382449 \nL 224.46627 198.862369 \nL 224.770938 207.561773 \nL 225.075607 206.952524 \nL 225.380275 207.825316 \nL 225.684943 207.503855 \nL 225.989611 205.12169 \nL 226.29428 208.434484 \nL 226.598948 209.914979 \nL 226.903616 197.272305 \nL 227.208285 202.708177 \nL 227.512953 197.531664 \nL 227.817621 204.01528 \nL 228.12229 207.566286 \nL 228.426958 203.250763 \nL 228.731626 206.499904 \nL 229.036295 204.484882 \nL 229.340963 199.890051 \nL 229.950299 202.227571 \nL 230.254968 208.379301 \nL 230.559636 208.584041 \nL 230.864304 203.541761 \nL 231.168973 200.580465 \nL 231.473641 205.784963 \nL 231.778309 208.138829 \nL 232.082978 195.424835 \nL 232.387646 195.911386 \nL 232.692314 202.306846 \nL 232.996982 199.486435 \nL 233.301651 204.858139 \nL 233.606319 201.229862 \nL 233.910987 203.328921 \nL 234.215656 202.376693 \nL 234.520324 204.089126 \nL 234.824992 206.782696 \nL 235.129661 205.961371 \nL 235.434329 203.241078 \nL 235.738997 197.760336 \nL 236.043666 203.503133 \nL 236.348334 204.519585 \nL 236.653002 202.749307 \nL 236.95767 208.612911 \nL 237.262339 196.271684 \nL 237.567007 207.609692 \nL 237.871675 204.336677 \nL 238.176344 203.252726 \nL 238.481012 207.548315 \nL 238.78568 206.519523 \nL 239.090349 206.762763 \nL 239.699685 203.524458 \nL 240.004354 199.136072 \nL 240.309022 200.23377 \nL 240.61369 206.96924 \nL 240.918358 201.377247 \nL 241.223027 201.669266 \nL 241.527695 204.689509 \nL 242.137032 200.646065 \nL 242.4417 205.535506 \nL 242.746368 206.075068 \nL 243.051037 210.290191 \nL 243.355705 205.005339 \nL 243.660373 193.876704 \nL 243.965041 211.08801 \nL 244.26971 205.572742 \nL 244.574378 205.687484 \nL 244.879046 205.354448 \nL 245.183715 200.910452 \nL 245.488383 206.979722 \nL 245.793051 201.436846 \nL 246.09772 204.104498 \nL 246.402388 203.270882 \nL 246.707056 204.659521 \nL 247.011725 197.337961 \nL 247.316393 197.730532 \nL 247.621061 205.949394 \nL 247.925729 207.328532 \nL 248.230398 209.720954 \nL 248.535066 196.749233 \nL 248.839734 201.661053 \nL 249.144403 200.11799 \nL 249.449071 208.970208 \nL 249.753739 197.876083 \nL 250.058408 209.99941 \nL 250.667744 196.627083 \nL 250.972412 204.874815 \nL 251.277081 207.509172 \nL 251.581749 199.87833 \nL 251.886417 202.738528 \nL 252.191086 197.557615 \nL 252.800422 214.216351 \nL 253.105091 205.79213 \nL 253.409759 211.051739 \nL 253.714427 208.377507 \nL 254.019096 207.480173 \nL 254.323764 197.994477 \nL 254.628432 204.52244 \nL 254.9331 204.807035 \nL 255.237769 206.919584 \nL 255.542437 204.954243 \nL 255.847105 206.386208 \nL 256.151774 204.516801 \nL 256.456442 205.939427 \nL 256.76111 208.197953 \nL 257.065779 207.304046 \nL 257.370447 202.094384 \nL 257.979783 208.757963 \nL 258.284452 197.710848 \nL 258.58912 207.446202 \nL 258.893788 204.947558 \nL 259.198457 208.035831 \nL 259.503125 204.676607 \nL 259.807793 205.117081 \nL 260.41713 201.852673 \nL 260.721798 201.669 \nL 261.026467 200.060418 \nL 261.331135 203.964079 \nL 261.940471 200.443159 \nL 262.24514 195.117532 \nL 262.549808 207.241664 \nL 262.854476 197.370363 \nL 263.159145 203.035003 \nL 263.463813 203.718612 \nL 263.768481 207.089114 \nL 264.07315 202.344999 \nL 264.377818 202.99866 \nL 264.682486 206.402344 \nL 264.987154 201.69117 \nL 265.291823 202.641193 \nL 265.596491 207.992047 \nL 265.901159 208.367106 \nL 266.205828 202.282142 \nL 266.510496 198.465084 \nL 266.815164 206.517504 \nL 267.119833 195.444736 \nL 267.424501 206.242909 \nL 267.729169 198.637237 \nL 268.033838 204.90457 \nL 268.338506 200.313825 \nL 268.643174 205.688827 \nL 269.252511 201.372364 \nL 269.557179 209.303928 \nL 269.861847 206.61763 \nL 270.166516 205.175924 \nL 270.471184 198.965584 \nL 270.775852 200.204738 \nL 271.080521 203.618333 \nL 271.385189 202.881858 \nL 271.689857 195.228557 \nL 271.994525 208.214701 \nL 272.299194 198.897925 \nL 272.603862 196.388099 \nL 272.90853 206.344547 \nL 273.213199 206.138568 \nL 273.517867 200.970076 \nL 273.822535 201.958099 \nL 274.127204 203.563006 \nL 274.431872 206.997274 \nL 274.73654 199.624521 \nL 275.041209 206.319972 \nL 275.345877 204.933803 \nL 275.650545 197.492393 \nL 275.955213 197.75995 \nL 276.259882 207.828911 \nL 276.56455 208.228746 \nL 276.869218 209.569458 \nL 277.173887 202.555933 \nL 277.478555 204.057802 \nL 277.783223 200.057321 \nL 278.087892 204.936731 \nL 278.39256 202.962992 \nL 278.697228 197.526452 \nL 279.001896 200.897815 \nL 279.306565 207.189031 \nL 279.611233 202.220838 \nL 279.915901 202.997525 \nL 280.22057 213.188034 \nL 280.525238 206.898999 \nL 280.829906 204.352065 \nL 281.134575 204.462254 \nL 281.439243 205.849413 \nL 281.743911 205.593906 \nL 282.04858 200.315901 \nL 282.353248 205.930924 \nL 282.657916 202.297844 \nL 282.962584 202.030046 \nL 283.876589 210.344328 \nL 284.181258 210.837073 \nL 284.485926 202.462098 \nL 284.790594 207.30403 \nL 285.095263 199.329067 \nL 285.399931 205.845552 \nL 285.704599 201.136501 \nL 286.009268 202.421692 \nL 286.313936 195.68882 \nL 286.618604 201.817206 \nL 286.923272 203.514467 \nL 287.227941 204.220921 \nL 287.532609 199.883825 \nL 287.837277 201.71227 \nL 288.141946 210.584566 \nL 288.446614 196.218769 \nL 288.751282 202.881311 \nL 289.055951 197.530554 \nL 289.360619 208.037384 \nL 289.665287 202.182073 \nL 289.969955 204.40621 \nL 290.274624 205.695214 \nL 290.579292 196.164849 \nL 290.88396 202.069704 \nL 291.188629 203.719722 \nL 291.493297 206.838297 \nL 291.797965 207.164335 \nL 292.102634 201.347226 \nL 292.407302 205.746504 \nL 292.71197 202.502938 \nL 293.016639 210.381033 \nL 293.321307 198.778332 \nL 293.625975 199.501341 \nL 293.930643 201.516515 \nL 294.235312 206.206115 \nL 294.53998 206.390109 \nL 294.844648 207.898863 \nL 295.149317 210.349894 \nL 295.453985 202.139825 \nL 295.758653 207.779585 \nL 296.063322 203.875674 \nL 296.36799 197.562594 \nL 296.672658 208.476892 \nL 296.977326 199.998663 \nL 297.586663 210.176897 \nL 297.891331 203.920496 \nL 298.196 202.858844 \nL 298.500668 206.282205 \nL 298.805336 204.284373 \nL 299.110005 203.68156 \nL 299.414673 204.422098 \nL 299.719341 198.750057 \nL 300.02401 206.324774 \nL 300.328678 197.926866 \nL 300.633346 200.692649 \nL 300.938014 201.721231 \nL 301.242683 205.551047 \nL 301.547351 203.593662 \nL 301.852019 206.170672 \nL 302.156688 201.174196 \nL 302.461356 203.068201 \nL 302.766024 200.030872 \nL 303.070693 198.627512 \nL 303.375361 202.248679 \nL 303.984697 206.790394 \nL 304.289366 205.319263 \nL 304.594034 210.567762 \nL 304.898702 198.887773 \nL 305.812707 209.35961 \nL 306.117376 204.76 \nL 306.422044 208.723703 \nL 306.726712 206.302371 \nL 307.031381 205.415406 \nL 307.336049 201.318685 \nL 307.640717 200.843203 \nL 307.945385 202.52917 \nL 308.250054 194.472801 \nL 308.554722 207.457947 \nL 308.85939 199.800069 \nL 309.164059 205.598363 \nL 309.468727 206.089209 \nL 309.773395 207.006798 \nL 310.078064 203.039733 \nL 310.382732 206.637386 \nL 310.6874 206.937176 \nL 310.992068 208.886871 \nL 311.296737 201.644417 \nL 311.601405 201.156692 \nL 311.906073 199.666713 \nL 312.51541 210.467685 \nL 312.820078 199.989533 \nL 313.124747 203.715812 \nL 313.429415 198.580317 \nL 313.734083 202.732792 \nL 314.34342 199.401658 \nL 314.648088 201.826618 \nL 314.952756 196.830391 \nL 315.257425 203.880597 \nL 315.866761 198.308939 \nL 316.17143 206.429799 \nL 316.476098 205.395328 \nL 316.780766 202.30539 \nL 317.085435 204.662521 \nL 317.694771 202.094641 \nL 317.999439 207.386491 \nL 318.304108 208.757947 \nL 318.608776 200.836591 \nL 318.913444 203.063335 \nL 319.218113 204.159971 \nL 319.522781 200.990331 \nL 319.827449 202.961286 \nL 320.132118 206.131819 \nL 320.741454 202.008335 \nL 321.046123 203.298457 \nL 321.350791 210.090173 \nL 321.655459 202.34796 \nL 321.960127 197.613079 \nL 322.264796 209.892592 \nL 322.569464 204.738386 \nL 322.874132 206.013168 \nL 323.178801 204.723223 \nL 323.483469 202.507668 \nL 323.788137 204.863963 \nL 324.092806 199.989203 \nL 324.397474 209.267022 \nL 324.702142 199.453913 \nL 325.006811 205.747638 \nL 325.311479 197.469596 \nL 325.616147 205.88854 \nL 325.920815 208.397979 \nL 326.530152 198.740991 \nL 327.139489 206.107711 \nL 327.444157 208.874081 \nL 327.748825 200.487281 \nL 328.053494 206.952645 \nL 328.358162 204.409275 \nL 328.66283 199.018732 \nL 328.967498 205.154317 \nL 329.272167 199.853707 \nL 329.576835 196.651183 \nL 329.881503 204.443342 \nL 330.186172 202.908123 \nL 330.49084 205.106326 \nL 330.795508 188.63394 \nL 331.100177 206.553631 \nL 331.404845 208.284508 \nL 331.709513 211.733481 \nL 332.014182 200.827219 \nL 332.31885 208.485564 \nL 332.928186 195.516941 \nL 333.232855 210.188231 \nL 333.537523 205.341529 \nL 333.842191 202.758276 \nL 334.14686 205.252399 \nL 334.451528 197.895067 \nL 334.756196 198.905735 \nL 335.060865 208.075449 \nL 335.365533 197.358337 \nL 335.670201 201.574482 \nL 336.279538 196.688757 \nL 336.584206 205.071189 \nL 336.888874 204.479742 \nL 337.193543 203.304016 \nL 337.498211 206.71017 \nL 337.802879 204.718629 \nL 338.107548 205.669988 \nL 338.412216 202.274388 \nL 338.716884 201.670167 \nL 339.021553 207.08107 \nL 339.326221 201.437892 \nL 339.630889 201.650732 \nL 339.935557 210.29805 \nL 340.544894 202.642834 \nL 340.849562 201.983189 \nL 341.154231 206.053533 \nL 341.458899 198.079439 \nL 341.763567 201.367039 \nL 342.068236 212.182498 \nL 342.372904 198.406274 \nL 342.98224 202.33924 \nL 343.591577 206.89644 \nL 343.896245 200.670004 \nL 344.200914 206.610664 \nL 344.505582 201.034043 \nL 344.81025 201.896296 \nL 345.114919 204.750026 \nL 345.724255 202.226348 \nL 346.028924 207.613336 \nL 346.63826 203.895125 \nL 346.942928 200.155757 \nL 347.247597 210.565816 \nL 347.552265 197.948649 \nL 347.856933 199.165562 \nL 348.161602 195.242208 \nL 348.46627 209.129266 \nL 348.770938 197.438392 \nL 349.075607 200.083489 \nL 349.380275 211.014173 \nL 349.684943 198.439673 \nL 349.684943 198.439673 \n\" style=\"fill:none;stroke:#1f77b4;stroke-linecap:square;stroke-width:1.5;\"/>\n   </g>\n   <g id=\"patch_3\">\n    <path d=\"M 30.103125 224.64 \nL 30.103125 7.2 \n\" style=\"fill:none;stroke:#000000;stroke-linecap:square;stroke-linejoin:miter;stroke-width:0.8;\"/>\n   </g>\n   <g id=\"patch_4\">\n    <path d=\"M 364.903125 224.64 \nL 364.903125 7.2 \n\" style=\"fill:none;stroke:#000000;stroke-linecap:square;stroke-linejoin:miter;stroke-width:0.8;\"/>\n   </g>\n   <g id=\"patch_5\">\n    <path d=\"M 30.103125 224.64 \nL 364.903125 224.64 \n\" style=\"fill:none;stroke:#000000;stroke-linecap:square;stroke-linejoin:miter;stroke-width:0.8;\"/>\n   </g>\n   <g id=\"patch_6\">\n    <path d=\"M 30.103125 7.2 \nL 364.903125 7.2 \n\" style=\"fill:none;stroke:#000000;stroke-linecap:square;stroke-linejoin:miter;stroke-width:0.8;\"/>\n   </g>\n   <g id=\"legend_1\">\n    <g id=\"patch_7\">\n     <path d=\"M 306.5875 29.878125 \nL 357.903125 29.878125 \nQ 359.903125 29.878125 359.903125 27.878125 \nL 359.903125 14.2 \nQ 359.903125 12.2 357.903125 12.2 \nL 306.5875 12.2 \nQ 304.5875 12.2 304.5875 14.2 \nL 304.5875 27.878125 \nQ 304.5875 29.878125 306.5875 29.878125 \nz\n\" style=\"fill:#ffffff;opacity:0.8;stroke:#cccccc;stroke-linejoin:miter;\"/>\n    </g>\n    <g id=\"line2d_15\">\n     <path d=\"M 308.5875 20.298437 \nL 328.5875 20.298437 \n\" style=\"fill:none;stroke:#1f77b4;stroke-linecap:square;stroke-width:1.5;\"/>\n    </g>\n    <g id=\"line2d_16\"/>\n    <g id=\"text_14\">\n     <!-- loss -->\n     <defs>\n      <path d=\"M 9.421875 75.984375 \nL 18.40625 75.984375 \nL 18.40625 0 \nL 9.421875 0 \nz\n\" id=\"DejaVuSans-108\"/>\n      <path d=\"M 30.609375 48.390625 \nQ 23.390625 48.390625 19.1875 42.75 \nQ 14.984375 37.109375 14.984375 27.296875 \nQ 14.984375 17.484375 19.15625 11.84375 \nQ 23.34375 6.203125 30.609375 6.203125 \nQ 37.796875 6.203125 41.984375 11.859375 \nQ 46.1875 17.53125 46.1875 27.296875 \nQ 46.1875 37.015625 41.984375 42.703125 \nQ 37.796875 48.390625 30.609375 48.390625 \nz\nM 30.609375 56 \nQ 42.328125 56 49.015625 48.375 \nQ 55.71875 40.765625 55.71875 27.296875 \nQ 55.71875 13.875 49.015625 6.21875 \nQ 42.328125 -1.421875 30.609375 -1.421875 \nQ 18.84375 -1.421875 12.171875 6.21875 \nQ 5.515625 13.875 5.515625 27.296875 \nQ 5.515625 40.765625 12.171875 48.375 \nQ 18.84375 56 30.609375 56 \nz\n\" id=\"DejaVuSans-111\"/>\n      <path d=\"M 44.28125 53.078125 \nL 44.28125 44.578125 \nQ 40.484375 46.53125 36.375 47.5 \nQ 32.28125 48.484375 27.875 48.484375 \nQ 21.1875 48.484375 17.84375 46.4375 \nQ 14.5 44.390625 14.5 40.28125 \nQ 14.5 37.15625 16.890625 35.375 \nQ 19.28125 33.59375 26.515625 31.984375 \nL 29.59375 31.296875 \nQ 39.15625 29.25 43.1875 25.515625 \nQ 47.21875 21.78125 47.21875 15.09375 \nQ 47.21875 7.46875 41.1875 3.015625 \nQ 35.15625 -1.421875 24.609375 -1.421875 \nQ 20.21875 -1.421875 15.453125 -0.5625 \nQ 10.6875 0.296875 5.421875 2 \nL 5.421875 11.28125 \nQ 10.40625 8.6875 15.234375 7.390625 \nQ 20.0625 6.109375 24.8125 6.109375 \nQ 31.15625 6.109375 34.5625 8.28125 \nQ 37.984375 10.453125 37.984375 14.40625 \nQ 37.984375 18.0625 35.515625 20.015625 \nQ 33.0625 21.96875 24.703125 23.78125 \nL 21.578125 24.515625 \nQ 13.234375 26.265625 9.515625 29.90625 \nQ 5.8125 33.546875 5.8125 39.890625 \nQ 5.8125 47.609375 11.28125 51.796875 \nQ 16.75 56 26.8125 56 \nQ 31.78125 56 36.171875 55.265625 \nQ 40.578125 54.546875 44.28125 53.078125 \nz\n\" id=\"DejaVuSans-115\"/>\n     </defs>\n     <g transform=\"translate(336.5875 23.798437)scale(0.1 -0.1)\">\n      <use xlink:href=\"#DejaVuSans-108\"/>\n      <use x=\"27.783203\" xlink:href=\"#DejaVuSans-111\"/>\n      <use x=\"88.964844\" xlink:href=\"#DejaVuSans-115\"/>\n      <use x=\"141.064453\" xlink:href=\"#DejaVuSans-115\"/>\n     </g>\n    </g>\n   </g>\n  </g>\n </g>\n <defs>\n  <clipPath id=\"p4570ff26a0\">\n   <rect height=\"217.44\" width=\"334.8\" x=\"30.103125\" y=\"7.2\"/>\n  </clipPath>\n </defs>\n</svg>\n",
            "text/plain": "<Figure size 432x288 with 1 Axes>"
          },
          "metadata": {
            "needs_background": "light"
          },
          "output_type": "display_data"
        }
      ],
      "source": [
        "MAX_LENGTH = 16\n",
        "\n",
        "\n",
        "for i in range(1000):\n",
        "    batch_ix = to_matrix(sample(names, 32), max_len=MAX_LENGTH)\n",
        "    batch_ix = torch.tensor(batch_ix, dtype=torch.int64)\n",
        "    \n",
        "    logp_seq = rnn_loop(char_rnn, batch_ix)\n",
        "    \n",
        "    # compute loss\n",
        "    #<YOUR CODE>\n",
        "    predictions_logp = logp_seq[:,:-1]               #<YOUR CODE>\n",
        "    actual_next_tokens = batch_ix[:,1:]              #<YOUR CODE>\n",
        "    \n",
        "    # train with backprop\n",
        "    loss = -torch.gather(\n",
        "                            predictions_logp,\n",
        "                            dim = 2,\n",
        "                            index = actual_next_tokens[:,:,None]\n",
        "                        ).mean()\n",
        "    loss.backward()\n",
        "    opt.step()\n",
        "\n",
        "    lr_scheduler.step()\n",
        "    opt.zero_grad()\n",
        "    #<YOUR CODE>\n",
        "    \n",
        "    history.append(loss.data.numpy())\n",
        "    if (i+1)%100==0:\n",
        "        clear_output(True)\n",
        "        plt.plot(history,label='loss')\n",
        "        plt.legend()\n",
        "        plt.show()\n",
        "\n",
        "assert np.mean(history[:10]) > np.mean(history[-10:]), \"RNN didn't converge.\""
      ]
    },
    {
      "cell_type": "markdown",
      "metadata": {
        "colab_type": "text",
        "id": "snufkeBotwhy"
      },
      "source": [
        "### RNN: sampling\n",
        "Once we've trained our network a bit, let's get to actually generating stuff. \n",
        "All we need is the single rnn step function you have defined in `char_rnn.forward`."
      ]
    },
    {
      "cell_type": "code",
      "execution_count": 50,
      "metadata": {},
      "outputs": [],
      "source": [
        "def generate_sample(char_rnn, seed_phrase=' ', max_length=MAX_LENGTH, temperature=1.0):\n",
        "    '''\n",
        "    The function generates text given a phrase of length at least SEQ_LENGTH.\n",
        "    :param seed_phrase: prefix characters. The RNN is asked to continue the phrase\n",
        "    :param max_length: maximum output length, including seed_phrase\n",
        "    :param temperature: coefficient for sampling.  higher temperature produces more chaotic outputs,\n",
        "                        smaller temperature converges to the single most likely output\n",
        "    '''\n",
        "    \n",
        "    x_sequence = [token_to_id[token] for token in seed_phrase]\n",
        "    x_sequence = torch.tensor([x_sequence], dtype=torch.int64)\n",
        "    hid_state = char_rnn.initial_state(batch_size=1)\n",
        "    \n",
        "    #feed the seed phrase, if any\n",
        "    for i in range(len(seed_phrase) - 1):\n",
        "        hid_state, _ = char_rnn(x_sequence[:, i], hid_state)\n",
        "    \n",
        "    #start generating\n",
        "    for _ in range(max_length - len(seed_phrase)):\n",
        "        hid_state, logp_next = char_rnn(x_sequence[:, -1], hid_state)\n",
        "        p_next = F.softmax(logp_next / temperature, dim=-1).data.numpy()[0]\n",
        "        \n",
        "        # sample next token and push it back into x_sequence\n",
        "        next_ix = np.random.choice(num_tokens,p=p_next)\n",
        "        next_ix = torch.tensor([[next_ix]], dtype=torch.int64)\n",
        "        x_sequence = torch.cat([x_sequence, next_ix], dim=1)\n",
        "        \n",
        "    return ''.join([tokens[ix] for ix in x_sequence.data.numpy()[0]])"
      ]
    },
    {
      "cell_type": "code",
      "execution_count": 51,
      "metadata": {},
      "outputs": [
        {
          "name": "stdout",
          "output_type": "stream",
          "text": "C eengern      \n C ye           \n Rylserre       \n Navinisy       \n Kurol          \n xasnlilela     \n Gal            \n SaWar          \n vaDn           \n CGliy          \n"
        }
      ],
      "source": [
        "for _ in range(10):\n",
        "    print(generate_sample(char_rnn))"
      ]
    },
    {
      "cell_type": "code",
      "execution_count": 52,
      "metadata": {},
      "outputs": [
        {
          "name": "stdout",
          "output_type": "stream",
          "text": "Brendily        \nBrendi          \nBrendisni       \nBrendi          \nBrendi          \nBrendi          \nBrendi   c      \nBrendi          \nBrendiun        \nBrendi          \nBrendial        \nBrendioa        \nBrendi         D\nBrendi      e   \nBrendi          \nBrendie         \nBrendisn        \nBrendin         \nBrendin n       \nBrendiam        \nBrendie         \nBrendi          \nBrendihayee     \nBrendil         \nBrendis         \nBrendia         \nBrenditl        \nBrendi  n       \nBrendiei        \nBrendia         \nBrendie         \nBrendin        e\nBrendie         \nBrendie         \nBrendire        \nBrendia         \nBrendie  e      \nBrendimka       \nBrendia         \nBrendiya        \nBrendi          \nBrendi          \nBrendiy         \nBrendiNlld      \nBrendia         \nBrendil         \nBrendi          \nBrendirt        \nBrendie         \nBrendiegnyO     \n"
        }
      ],
      "source": [
        "for _ in range(50):\n",
        "    print(generate_sample(char_rnn, seed_phrase='Brendi'))"
      ]
    },
    {
      "cell_type": "markdown",
      "metadata": {
        "colab_type": "text",
        "collapsed": true,
        "id": "DwaEWYPvtwiS"
      },
      "source": [
        "### More seriously\n",
        "\n",
        "What we just did is a manual low-level implementation of RNN. While it's cool, i guess you won't like the idea of re-writing it from scratch on every occasion. \n",
        "\n",
        "As you might have guessed, torch has a solution for this. To be more specific, there are two options:\n",
        "* `nn.RNNCell(emb_size, rnn_num_units)` - implements a single step of RNN just like you did. Basically concat-linear-tanh\n",
        "* `nn.RNN(emb_size, rnn_num_units` - implements the whole rnn_loop for you.\n",
        "\n",
        "There's also `nn.LSTMCell` vs `nn.LSTM`, `nn.GRUCell` vs `nn.GRU`, etc. etc.\n",
        "\n",
        "In this example we'll rewrite the char_rnn and rnn_loop using high-level rnn API."
      ]
    },
    {
      "cell_type": "code",
      "execution_count": 53,
      "metadata": {},
      "outputs": [],
      "source": [
        "class CharRNNLoop(nn.Module):\n",
        "    def __init__(self, num_tokens=num_tokens, emb_size=16, rnn_num_units=64):\n",
        "        super(self.__class__, self).__init__()\n",
        "        self.emb = nn.Embedding(num_tokens, emb_size)\n",
        "        self.rnn = nn.RNN(emb_size, rnn_num_units, batch_first=True)\n",
        "        self.hid_to_logits = nn.Linear(rnn_num_units, num_tokens)\n",
        "        \n",
        "    def forward(self, x):\n",
        "        assert isinstance(x.data, torch.LongTensor)\n",
        "        h_seq, _ = self.rnn(self.emb(x))\n",
        "        next_logits = self.hid_to_logits(h_seq)\n",
        "        next_logp = F.log_softmax(next_logits, dim=-1)\n",
        "        return next_logp\n",
        "    \n",
        "model = CharRNNLoop()\n",
        "opt = torch.optim.Adam(model.parameters())\n",
        "history = []"
      ]
    },
    {
      "cell_type": "code",
      "execution_count": 54,
      "metadata": {},
      "outputs": [],
      "source": [
        "# the model applies over the whole sequence\n",
        "batch_ix = to_matrix(sample(names, 32), max_len=MAX_LENGTH)\n",
        "batch_ix = torch.LongTensor(batch_ix)\n",
        "\n",
        "logp_seq = model(batch_ix)\n",
        "\n",
        "# compute loss. \n",
        "loss = F.nll_loss(logp_seq[:, 1:].contiguous().view(-1, num_tokens), \n",
        "                  batch_ix[:, :-1].contiguous().view(-1))\n",
        "\n",
        "loss.backward()"
      ]
    },
    {
      "cell_type": "code",
      "execution_count": 55,
      "metadata": {},
      "outputs": [
        {
          "ename": "SyntaxError",
          "evalue": "invalid syntax (<ipython-input-55-23b1e8abe691>, line 11)",
          "output_type": "error",
          "traceback": [
            "\u001b[0;36m  File \u001b[0;32m\"<ipython-input-55-23b1e8abe691>\"\u001b[0;36m, line \u001b[0;32m11\u001b[0m\n\u001b[0;31m    predictions_logp = #<YOUR CODE>\u001b[0m\n\u001b[0m                                   ^\u001b[0m\n\u001b[0;31mSyntaxError\u001b[0m\u001b[0;31m:\u001b[0m invalid syntax\n"
          ]
        }
      ],
      "source": [
        "MAX_LENGTH = 16\n",
        "\n",
        "for i in range(1000):\n",
        "    batch_ix = to_matrix(sample(names, 32), max_len=MAX_LENGTH)\n",
        "    batch_ix = torch.tensor(batch_ix, dtype=torch.int64)\n",
        "    \n",
        "    logp_seq = model(batch_ix)\n",
        "    \n",
        "    # compute loss\n",
        "    #<YOUR CODE>\n",
        "    predictions_logp = #<YOUR CODE>\n",
        "    actual_next_tokens = #<YOUR CODE>\n",
        "\n",
        "    loss = ###YOUR CODE\n",
        "    \n",
        "    # train with backprop\n",
        "\n",
        "    #<YOUR CODE>\n",
        "    \n",
        "    history.append(loss.data.numpy())\n",
        "    if (i+1)%100==0:\n",
        "        clear_output(True)\n",
        "        plt.plot(history,label='loss')\n",
        "        plt.legend()\n",
        "        plt.show()\n",
        "\n",
        "assert np.mean(history[:10]) > np.mean(history[-10:]), \"RNN didn't converge.\""
      ]
    },
    {
      "cell_type": "markdown",
      "metadata": {
        "colab_type": "text",
        "id": "3xhWRlortwiz"
      },
      "source": [
        "### To sum up:\n",
        "- PyTorch is convenient both for prototyping and production\n",
        "- There are a lot of pre-implemented methods/layers/activations out of the box\n",
        "- It's much easier (*really easier*) to use PyTorch than TensorFlow on entry level. \n",
        "- Neural networks are not *black boxes*, they are pretty nice and easy to use (almost always)."
      ]
    },
    {
      "cell_type": "markdown",
      "metadata": {
        "colab_type": "text",
        "id": "dVbpTBiTtwi1"
      },
      "source": [
        "### Try it out!\n",
        "You've just implemented a recurrent language model that can be tasked with generating any kind of sequence, so there's plenty of data you can try it on:\n",
        "\n",
        "* Novels/poems/songs of your favorite author\n",
        "* News titles/clickbait titles\n",
        "* Source code of Linux or Tensorflow\n",
        "* Molecules in [smiles](https://en.wikipedia.org/wiki/Simplified_molecular-input_line-entry_system) format\n",
        "* Melody in notes/chords format\n",
        "* Ikea catalog titles\n",
        "* Pokemon names\n",
        "* Cards from Magic, the Gathering / Hearthstone\n",
        "\n",
        "If you're willing to give it a try, here's what you wanna look at:\n",
        "* Current data format is a sequence of lines, so a novel can be formatted as a list of sentences. Alternatively, you can change data preprocessing altogether.\n",
        "* While some datasets are readily available, others can only be scraped from the web. Try `Selenium` or `Scrapy` for that.\n",
        "* Make sure MAX_LENGTH is adjusted for longer datasets. There's also a bonus section about dynamic RNNs at the bottom.\n",
        "* More complex tasks require larger RNN architecture, try more neurons or several layers. It would also require more training iterations.\n",
        "* Long-term dependencies in music, novels or molecules are better handled with LSTM or GRU\n",
        "\n",
        "__Good hunting!__"
      ]
    }
  ]
}