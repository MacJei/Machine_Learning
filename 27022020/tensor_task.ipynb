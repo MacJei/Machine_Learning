{
 "nbformat": 4,
 "nbformat_minor": 2,
 "metadata": {
  "language_info": {
   "name": "python",
   "codemirror_mode": {
    "name": "ipython",
    "version": 3
   },
   "version": "3.7.4-final"
  },
  "orig_nbformat": 2,
  "file_extension": ".py",
  "mimetype": "text/x-python",
  "name": "python",
  "npconvert_exporter": "python",
  "pygments_lexer": "ipython3",
  "version": 3,
  "kernelspec": {
   "name": "python37464bitbaseconda32b1018481b04555a6a21e8ae9100f70",
   "display_name": "Python 3.7.4 64-bit ('base': conda)"
  }
 },
 "cells": [
  {
   "cell_type": "code",
   "execution_count": 1,
   "metadata": {},
   "outputs": [
    {
     "name": "stdout",
     "output_type": "stream",
     "text": "Parsing...\nfound broken img: ./notMNIST_small/A/RGVtb2NyYXRpY2FCb2xkT2xkc3R5bGUgQm9sZC50dGY=.png [it's ok if <10 images are broken]\nfound broken img: ./notMNIST_small/F/Q3Jvc3NvdmVyIEJvbGRPYmxpcXVlLnR0Zg==.png [it's ok if <10 images are broken]\nDone\nTrain size = 14043, test_size = 4681\n"
    }
   ],
   "source": [
    "from notmnist import load_notmnist\n",
    "X_train, y_train, X_test, y_test = load_notmnist()\n",
    "X_train, X_test = X_train.reshape([-1, 784]), X_test.reshape([-1, 784])\n",
    "\n",
    "print(\"Train size = %i, test_size = %i\"%(len(X_train),len(X_test)))"
   ]
  },
  {
   "cell_type": "code",
   "execution_count": 2,
   "metadata": {},
   "outputs": [
    {
     "data": {
      "image/png": "[encoded data removed]",
      "image/svg+xml": "<?xml version=\"1.0\" encoding=\"utf-8\" standalone=\"no\"?>\n<!DOCTYPE svg PUBLIC \"-//W3C//DTD SVG 1.1//EN\"\n  \"http://www.w3.org/Graphics/SVG/1.1/DTD/svg11.dtd\">\n<!-- Created with matplotlib (https://matplotlib.org/) -->\n<svg height=\"198.378068pt\" version=\"1.1\" viewBox=\"0 0 368.925 198.378068\" width=\"368.925pt\" xmlns=\"http://www.w3.org/2000/svg\" xmlns:xlink=\"http://www.w3.org/1999/xlink\">\n <defs>\n  <style type=\"text/css\">\n*{stroke-linecap:butt;stroke-linejoin:round;}\n  </style>\n </defs>\n <g id=\"figure_1\">\n  <g id=\"patch_1\">\n   <path d=\"M -0 198.378068 \nL 368.925 198.378068 \nL 368.925 0 \nL -0 0 \nz\n\" style=\"fill:none;\"/>\n  </g>\n  <g id=\"axes_1\">\n   <g id=\"patch_2\">\n    <path d=\"M 26.925 174.499943 \nL 179.106818 174.499943 \nL 179.106818 22.318125 \nL 26.925 22.318125 \nz\n\" style=\"fill:#ffffff;\"/>\n   </g>\n   <g clip-path=\"url(#p1b44e69dfc)\">\n    <image height=\"153\" id=\"imageb34a631566\" transform=\"scale(1 -1)translate(0 -153)\" width=\"153\" x=\"26.925\" xlink:href=\"data:image/png;base64,\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\" y=\"-21.499943\"/>\n   </g>\n   <g id=\"matplotlib.axis_1\">\n    <g id=\"xtick_1\">\n     <g id=\"line2d_1\">\n      <defs>\n       <path d=\"M 0 0 \nL 0 3.5 \n\" id=\"m42764618da\" style=\"stroke:#000000;stroke-width:0.8;\"/>\n      </defs>\n      <g>\n       <use style=\"stroke:#000000;stroke-width:0.8;\" x=\"29.642532\" xlink:href=\"#m42764618da\" y=\"174.499943\"/>\n      </g>\n     </g>\n     <g id=\"text_1\">\n      <!-- 0 -->\n      <defs>\n       <path d=\"M 31.78125 66.40625 \nQ 24.171875 66.40625 20.328125 58.90625 \nQ 16.5 51.421875 16.5 36.375 \nQ 16.5 21.390625 20.328125 13.890625 \nQ 24.171875 6.390625 31.78125 6.390625 \nQ 39.453125 6.390625 43.28125 13.890625 \nQ 47.125 21.390625 47.125 36.375 \nQ 47.125 51.421875 43.28125 58.90625 \nQ 39.453125 66.40625 31.78125 66.40625 \nz\nM 31.78125 74.21875 \nQ 44.046875 74.21875 50.515625 64.515625 \nQ 56.984375 54.828125 56.984375 36.375 \nQ 56.984375 17.96875 50.515625 8.265625 \nQ 44.046875 -1.421875 31.78125 -1.421875 \nQ 19.53125 -1.421875 13.0625 8.265625 \nQ 6.59375 17.96875 6.59375 36.375 \nQ 6.59375 54.828125 13.0625 64.515625 \nQ 19.53125 74.21875 31.78125 74.21875 \nz\n\" id=\"DejaVuSans-48\"/>\n      </defs>\n      <g transform=\"translate(26.461282 189.098381)scale(0.1 -0.1)\">\n       <use xlink:href=\"#DejaVuSans-48\"/>\n      </g>\n     </g>\n    </g>\n    <g id=\"xtick_2\">\n     <g id=\"line2d_2\">\n      <g>\n       <use style=\"stroke:#000000;stroke-width:0.8;\" x=\"83.993182\" xlink:href=\"#m42764618da\" y=\"174.499943\"/>\n      </g>\n     </g>\n     <g id=\"text_2\">\n      <!-- 10 -->\n      <defs>\n       <path d=\"M 12.40625 8.296875 \nL 28.515625 8.296875 \nL 28.515625 63.921875 \nL 10.984375 60.40625 \nL 10.984375 69.390625 \nL 28.421875 72.90625 \nL 38.28125 72.90625 \nL 38.28125 8.296875 \nL 54.390625 8.296875 \nL 54.390625 0 \nL 12.40625 0 \nz\n\" id=\"DejaVuSans-49\"/>\n      </defs>\n      <g transform=\"translate(77.630682 189.098381)scale(0.1 -0.1)\">\n       <use xlink:href=\"#DejaVuSans-49\"/>\n       <use x=\"63.623047\" xlink:href=\"#DejaVuSans-48\"/>\n      </g>\n     </g>\n    </g>\n    <g id=\"xtick_3\">\n     <g id=\"line2d_3\">\n      <g>\n       <use style=\"stroke:#000000;stroke-width:0.8;\" x=\"138.343831\" xlink:href=\"#m42764618da\" y=\"174.499943\"/>\n      </g>\n     </g>\n     <g id=\"text_3\">\n      <!-- 20 -->\n      <defs>\n       <path d=\"M 19.1875 8.296875 \nL 53.609375 8.296875 \nL 53.609375 0 \nL 7.328125 0 \nL 7.328125 8.296875 \nQ 12.9375 14.109375 22.625 23.890625 \nQ 32.328125 33.6875 34.8125 36.53125 \nQ 39.546875 41.84375 41.421875 45.53125 \nQ 43.3125 49.21875 43.3125 52.78125 \nQ 43.3125 58.59375 39.234375 62.25 \nQ 35.15625 65.921875 28.609375 65.921875 \nQ 23.96875 65.921875 18.8125 64.3125 \nQ 13.671875 62.703125 7.8125 59.421875 \nL 7.8125 69.390625 \nQ 13.765625 71.78125 18.9375 73 \nQ 24.125 74.21875 28.421875 74.21875 \nQ 39.75 74.21875 46.484375 68.546875 \nQ 53.21875 62.890625 53.21875 53.421875 \nQ 53.21875 48.921875 51.53125 44.890625 \nQ 49.859375 40.875 45.40625 35.40625 \nQ 44.1875 33.984375 37.640625 27.21875 \nQ 31.109375 20.453125 19.1875 8.296875 \nz\n\" id=\"DejaVuSans-50\"/>\n      </defs>\n      <g transform=\"translate(131.981331 189.098381)scale(0.1 -0.1)\">\n       <use xlink:href=\"#DejaVuSans-50\"/>\n       <use x=\"63.623047\" xlink:href=\"#DejaVuSans-48\"/>\n      </g>\n     </g>\n    </g>\n   </g>\n   <g id=\"matplotlib.axis_2\">\n    <g id=\"ytick_1\">\n     <g id=\"line2d_4\">\n      <defs>\n       <path d=\"M 0 0 \nL -3.5 0 \n\" id=\"me687deba48\" style=\"stroke:#000000;stroke-width:0.8;\"/>\n      </defs>\n      <g>\n       <use style=\"stroke:#000000;stroke-width:0.8;\" x=\"26.925\" xlink:href=\"#me687deba48\" y=\"25.035657\"/>\n      </g>\n     </g>\n     <g id=\"text_4\">\n      <!-- 0 -->\n      <g transform=\"translate(13.5625 28.834876)scale(0.1 -0.1)\">\n       <use xlink:href=\"#DejaVuSans-48\"/>\n      </g>\n     </g>\n    </g>\n    <g id=\"ytick_2\">\n     <g id=\"line2d_5\">\n      <g>\n       <use style=\"stroke:#000000;stroke-width:0.8;\" x=\"26.925\" xlink:href=\"#me687deba48\" y=\"52.210982\"/>\n      </g>\n     </g>\n     <g id=\"text_5\">\n      <!-- 5 -->\n      <defs>\n       <path d=\"M 10.796875 72.90625 \nL 49.515625 72.90625 \nL 49.515625 64.59375 \nL 19.828125 64.59375 \nL 19.828125 46.734375 \nQ 21.96875 47.46875 24.109375 47.828125 \nQ 26.265625 48.1875 28.421875 48.1875 \nQ 40.625 48.1875 47.75 41.5 \nQ 54.890625 34.8125 54.890625 23.390625 \nQ 54.890625 11.625 47.5625 5.09375 \nQ 40.234375 -1.421875 26.90625 -1.421875 \nQ 22.3125 -1.421875 17.546875 -0.640625 \nQ 12.796875 0.140625 7.71875 1.703125 \nL 7.71875 11.625 \nQ 12.109375 9.234375 16.796875 8.0625 \nQ 21.484375 6.890625 26.703125 6.890625 \nQ 35.15625 6.890625 40.078125 11.328125 \nQ 45.015625 15.765625 45.015625 23.390625 \nQ 45.015625 31 40.078125 35.4375 \nQ 35.15625 39.890625 26.703125 39.890625 \nQ 22.75 39.890625 18.8125 39.015625 \nQ 14.890625 38.140625 10.796875 36.28125 \nz\n\" id=\"DejaVuSans-53\"/>\n      </defs>\n      <g transform=\"translate(13.5625 56.010201)scale(0.1 -0.1)\">\n       <use xlink:href=\"#DejaVuSans-53\"/>\n      </g>\n     </g>\n    </g>\n    <g id=\"ytick_3\">\n     <g id=\"line2d_6\">\n      <g>\n       <use style=\"stroke:#000000;stroke-width:0.8;\" x=\"26.925\" xlink:href=\"#me687deba48\" y=\"79.386307\"/>\n      </g>\n     </g>\n     <g id=\"text_6\">\n      <!-- 10 -->\n      <g transform=\"translate(7.2 83.185526)scale(0.1 -0.1)\">\n       <use xlink:href=\"#DejaVuSans-49\"/>\n       <use x=\"63.623047\" xlink:href=\"#DejaVuSans-48\"/>\n      </g>\n     </g>\n    </g>\n    <g id=\"ytick_4\">\n     <g id=\"line2d_7\">\n      <g>\n       <use style=\"stroke:#000000;stroke-width:0.8;\" x=\"26.925\" xlink:href=\"#me687deba48\" y=\"106.561631\"/>\n      </g>\n     </g>\n     <g id=\"text_7\">\n      <!-- 15 -->\n      <g transform=\"translate(7.2 110.36085)scale(0.1 -0.1)\">\n       <use xlink:href=\"#DejaVuSans-49\"/>\n       <use x=\"63.623047\" xlink:href=\"#DejaVuSans-53\"/>\n      </g>\n     </g>\n    </g>\n    <g id=\"ytick_5\">\n     <g id=\"line2d_8\">\n      <g>\n       <use style=\"stroke:#000000;stroke-width:0.8;\" x=\"26.925\" xlink:href=\"#me687deba48\" y=\"133.736956\"/>\n      </g>\n     </g>\n     <g id=\"text_8\">\n      <!-- 20 -->\n      <g transform=\"translate(7.2 137.536175)scale(0.1 -0.1)\">\n       <use xlink:href=\"#DejaVuSans-50\"/>\n       <use x=\"63.623047\" xlink:href=\"#DejaVuSans-48\"/>\n      </g>\n     </g>\n    </g>\n    <g id=\"ytick_6\">\n     <g id=\"line2d_9\">\n      <g>\n       <use style=\"stroke:#000000;stroke-width:0.8;\" x=\"26.925\" xlink:href=\"#me687deba48\" y=\"160.912281\"/>\n      </g>\n     </g>\n     <g id=\"text_9\">\n      <!-- 25 -->\n      <g transform=\"translate(7.2 164.7115)scale(0.1 -0.1)\">\n       <use xlink:href=\"#DejaVuSans-50\"/>\n       <use x=\"63.623047\" xlink:href=\"#DejaVuSans-53\"/>\n      </g>\n     </g>\n    </g>\n   </g>\n   <g id=\"patch_3\">\n    <path d=\"M 26.925 174.499943 \nL 26.925 22.318125 \n\" style=\"fill:none;stroke:#000000;stroke-linecap:square;stroke-linejoin:miter;stroke-width:0.8;\"/>\n   </g>\n   <g id=\"patch_4\">\n    <path d=\"M 179.106818 174.499943 \nL 179.106818 22.318125 \n\" style=\"fill:none;stroke:#000000;stroke-linecap:square;stroke-linejoin:miter;stroke-width:0.8;\"/>\n   </g>\n   <g id=\"patch_5\">\n    <path d=\"M 26.925 174.499943 \nL 179.106818 174.499943 \n\" style=\"fill:none;stroke:#000000;stroke-linecap:square;stroke-linejoin:miter;stroke-width:0.8;\"/>\n   </g>\n   <g id=\"patch_6\">\n    <path d=\"M 26.925 22.318125 \nL 179.106818 22.318125 \n\" style=\"fill:none;stroke:#000000;stroke-linecap:square;stroke-linejoin:miter;stroke-width:0.8;\"/>\n   </g>\n   <g id=\"text_10\">\n    <!-- 8 -->\n    <defs>\n     <path d=\"M 31.78125 34.625 \nQ 24.75 34.625 20.71875 30.859375 \nQ 16.703125 27.09375 16.703125 20.515625 \nQ 16.703125 13.921875 20.71875 10.15625 \nQ 24.75 6.390625 31.78125 6.390625 \nQ 38.8125 6.390625 42.859375 10.171875 \nQ 46.921875 13.96875 46.921875 20.515625 \nQ 46.921875 27.09375 42.890625 30.859375 \nQ 38.875 34.625 31.78125 34.625 \nz\nM 21.921875 38.8125 \nQ 15.578125 40.375 12.03125 44.71875 \nQ 8.5 49.078125 8.5 55.328125 \nQ 8.5 64.0625 14.71875 69.140625 \nQ 20.953125 74.21875 31.78125 74.21875 \nQ 42.671875 74.21875 48.875 69.140625 \nQ 55.078125 64.0625 55.078125 55.328125 \nQ 55.078125 49.078125 51.53125 44.71875 \nQ 48 40.375 41.703125 38.8125 \nQ 48.828125 37.15625 52.796875 32.3125 \nQ 56.78125 27.484375 56.78125 20.515625 \nQ 56.78125 9.90625 50.3125 4.234375 \nQ 43.84375 -1.421875 31.78125 -1.421875 \nQ 19.734375 -1.421875 13.25 4.234375 \nQ 6.78125 9.90625 6.78125 20.515625 \nQ 6.78125 27.484375 10.78125 32.3125 \nQ 14.796875 37.15625 21.921875 38.8125 \nz\nM 18.3125 54.390625 \nQ 18.3125 48.734375 21.84375 45.5625 \nQ 25.390625 42.390625 31.78125 42.390625 \nQ 38.140625 42.390625 41.71875 45.5625 \nQ 45.3125 48.734375 45.3125 54.390625 \nQ 45.3125 60.0625 41.71875 63.234375 \nQ 38.140625 66.40625 31.78125 66.40625 \nQ 25.390625 66.40625 21.84375 63.234375 \nQ 18.3125 60.0625 18.3125 54.390625 \nz\n\" id=\"DejaVuSans-56\"/>\n    </defs>\n    <g transform=\"translate(99.198409 16.318125)scale(0.12 -0.12)\">\n     <use xlink:href=\"#DejaVuSans-56\"/>\n    </g>\n   </g>\n  </g>\n  <g id=\"axes_2\">\n   <g id=\"patch_7\">\n    <path d=\"M 209.543182 174.499943 \nL 361.725 174.499943 \nL 361.725 22.318125 \nL 209.543182 22.318125 \nz\n\" style=\"fill:#ffffff;\"/>\n   </g>\n   <g clip-path=\"url(#p524e734373)\">\n    <image height=\"153\" id=\"imagee8f92515ef\" transform=\"scale(1 -1)translate(0 -153)\" width=\"153\" x=\"209.543182\" xlink:href=\"data:image/png;base64,\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\" y=\"-21.499943\"/>\n   </g>\n   <g id=\"matplotlib.axis_3\">\n    <g id=\"xtick_4\">\n     <g id=\"line2d_10\">\n      <g>\n       <use style=\"stroke:#000000;stroke-width:0.8;\" x=\"212.260714\" xlink:href=\"#m42764618da\" y=\"174.499943\"/>\n      </g>\n     </g>\n     <g id=\"text_11\">\n      <!-- 0 -->\n      <g transform=\"translate(209.079464 189.098381)scale(0.1 -0.1)\">\n       <use xlink:href=\"#DejaVuSans-48\"/>\n      </g>\n     </g>\n    </g>\n    <g id=\"xtick_5\">\n     <g id=\"line2d_11\">\n      <g>\n       <use style=\"stroke:#000000;stroke-width:0.8;\" x=\"266.611364\" xlink:href=\"#m42764618da\" y=\"174.499943\"/>\n      </g>\n     </g>\n     <g id=\"text_12\">\n      <!-- 10 -->\n      <g transform=\"translate(260.248864 189.098381)scale(0.1 -0.1)\">\n       <use xlink:href=\"#DejaVuSans-49\"/>\n       <use x=\"63.623047\" xlink:href=\"#DejaVuSans-48\"/>\n      </g>\n     </g>\n    </g>\n    <g id=\"xtick_6\">\n     <g id=\"line2d_12\">\n      <g>\n       <use style=\"stroke:#000000;stroke-width:0.8;\" x=\"320.962013\" xlink:href=\"#m42764618da\" y=\"174.499943\"/>\n      </g>\n     </g>\n     <g id=\"text_13\">\n      <!-- 20 -->\n      <g transform=\"translate(314.599513 189.098381)scale(0.1 -0.1)\">\n       <use xlink:href=\"#DejaVuSans-50\"/>\n       <use x=\"63.623047\" xlink:href=\"#DejaVuSans-48\"/>\n      </g>\n     </g>\n    </g>\n   </g>\n   <g id=\"matplotlib.axis_4\">\n    <g id=\"ytick_7\">\n     <g id=\"line2d_13\">\n      <g>\n       <use style=\"stroke:#000000;stroke-width:0.8;\" x=\"209.543182\" xlink:href=\"#me687deba48\" y=\"25.035657\"/>\n      </g>\n     </g>\n     <g id=\"text_14\">\n      <!-- 0 -->\n      <g transform=\"translate(196.180682 28.834876)scale(0.1 -0.1)\">\n       <use xlink:href=\"#DejaVuSans-48\"/>\n      </g>\n     </g>\n    </g>\n    <g id=\"ytick_8\">\n     <g id=\"line2d_14\">\n      <g>\n       <use style=\"stroke:#000000;stroke-width:0.8;\" x=\"209.543182\" xlink:href=\"#me687deba48\" y=\"52.210982\"/>\n      </g>\n     </g>\n     <g id=\"text_15\">\n      <!-- 5 -->\n      <g transform=\"translate(196.180682 56.010201)scale(0.1 -0.1)\">\n       <use xlink:href=\"#DejaVuSans-53\"/>\n      </g>\n     </g>\n    </g>\n    <g id=\"ytick_9\">\n     <g id=\"line2d_15\">\n      <g>\n       <use style=\"stroke:#000000;stroke-width:0.8;\" x=\"209.543182\" xlink:href=\"#me687deba48\" y=\"79.386307\"/>\n      </g>\n     </g>\n     <g id=\"text_16\">\n      <!-- 10 -->\n      <g transform=\"translate(189.818182 83.185526)scale(0.1 -0.1)\">\n       <use xlink:href=\"#DejaVuSans-49\"/>\n       <use x=\"63.623047\" xlink:href=\"#DejaVuSans-48\"/>\n      </g>\n     </g>\n    </g>\n    <g id=\"ytick_10\">\n     <g id=\"line2d_16\">\n      <g>\n       <use style=\"stroke:#000000;stroke-width:0.8;\" x=\"209.543182\" xlink:href=\"#me687deba48\" y=\"106.561631\"/>\n      </g>\n     </g>\n     <g id=\"text_17\">\n      <!-- 15 -->\n      <g transform=\"translate(189.818182 110.36085)scale(0.1 -0.1)\">\n       <use xlink:href=\"#DejaVuSans-49\"/>\n       <use x=\"63.623047\" xlink:href=\"#DejaVuSans-53\"/>\n      </g>\n     </g>\n    </g>\n    <g id=\"ytick_11\">\n     <g id=\"line2d_17\">\n      <g>\n       <use style=\"stroke:#000000;stroke-width:0.8;\" x=\"209.543182\" xlink:href=\"#me687deba48\" y=\"133.736956\"/>\n      </g>\n     </g>\n     <g id=\"text_18\">\n      <!-- 20 -->\n      <g transform=\"translate(189.818182 137.536175)scale(0.1 -0.1)\">\n       <use xlink:href=\"#DejaVuSans-50\"/>\n       <use x=\"63.623047\" xlink:href=\"#DejaVuSans-48\"/>\n      </g>\n     </g>\n    </g>\n    <g id=\"ytick_12\">\n     <g id=\"line2d_18\">\n      <g>\n       <use style=\"stroke:#000000;stroke-width:0.8;\" x=\"209.543182\" xlink:href=\"#me687deba48\" y=\"160.912281\"/>\n      </g>\n     </g>\n     <g id=\"text_19\">\n      <!-- 25 -->\n      <g transform=\"translate(189.818182 164.7115)scale(0.1 -0.1)\">\n       <use xlink:href=\"#DejaVuSans-50\"/>\n       <use x=\"63.623047\" xlink:href=\"#DejaVuSans-53\"/>\n      </g>\n     </g>\n    </g>\n   </g>\n   <g id=\"patch_8\">\n    <path d=\"M 209.543182 174.499943 \nL 209.543182 22.318125 \n\" style=\"fill:none;stroke:#000000;stroke-linecap:square;stroke-linejoin:miter;stroke-width:0.8;\"/>\n   </g>\n   <g id=\"patch_9\">\n    <path d=\"M 361.725 174.499943 \nL 361.725 22.318125 \n\" style=\"fill:none;stroke:#000000;stroke-linecap:square;stroke-linejoin:miter;stroke-width:0.8;\"/>\n   </g>\n   <g id=\"patch_10\">\n    <path d=\"M 209.543182 174.499943 \nL 361.725 174.499943 \n\" style=\"fill:none;stroke:#000000;stroke-linecap:square;stroke-linejoin:miter;stroke-width:0.8;\"/>\n   </g>\n   <g id=\"patch_11\">\n    <path d=\"M 209.543182 22.318125 \nL 361.725 22.318125 \n\" style=\"fill:none;stroke:#000000;stroke-linecap:square;stroke-linejoin:miter;stroke-width:0.8;\"/>\n   </g>\n   <g id=\"text_20\">\n    <!-- 9 -->\n    <defs>\n     <path d=\"M 10.984375 1.515625 \nL 10.984375 10.5 \nQ 14.703125 8.734375 18.5 7.8125 \nQ 22.3125 6.890625 25.984375 6.890625 \nQ 35.75 6.890625 40.890625 13.453125 \nQ 46.046875 20.015625 46.78125 33.40625 \nQ 43.953125 29.203125 39.59375 26.953125 \nQ 35.25 24.703125 29.984375 24.703125 \nQ 19.046875 24.703125 12.671875 31.3125 \nQ 6.296875 37.9375 6.296875 49.421875 \nQ 6.296875 60.640625 12.9375 67.421875 \nQ 19.578125 74.21875 30.609375 74.21875 \nQ 43.265625 74.21875 49.921875 64.515625 \nQ 56.59375 54.828125 56.59375 36.375 \nQ 56.59375 19.140625 48.40625 8.859375 \nQ 40.234375 -1.421875 26.421875 -1.421875 \nQ 22.703125 -1.421875 18.890625 -0.6875 \nQ 15.09375 0.046875 10.984375 1.515625 \nz\nM 30.609375 32.421875 \nQ 37.25 32.421875 41.125 36.953125 \nQ 45.015625 41.5 45.015625 49.421875 \nQ 45.015625 57.28125 41.125 61.84375 \nQ 37.25 66.40625 30.609375 66.40625 \nQ 23.96875 66.40625 20.09375 61.84375 \nQ 16.21875 57.28125 16.21875 49.421875 \nQ 16.21875 41.5 20.09375 36.953125 \nQ 23.96875 32.421875 30.609375 32.421875 \nz\n\" id=\"DejaVuSans-57\"/>\n    </defs>\n    <g transform=\"translate(281.816591 16.318125)scale(0.12 -0.12)\">\n     <use xlink:href=\"#DejaVuSans-57\"/>\n    </g>\n   </g>\n  </g>\n </g>\n <defs>\n  <clipPath id=\"p1b44e69dfc\">\n   <rect height=\"152.181818\" width=\"152.181818\" x=\"26.925\" y=\"22.318125\"/>\n  </clipPath>\n  <clipPath id=\"p524e734373\">\n   <rect height=\"152.181818\" width=\"152.181818\" x=\"209.543182\" y=\"22.318125\"/>\n  </clipPath>\n </defs>\n</svg>\n",
      "text/plain": "<Figure size 432x288 with 2 Axes>"
     },
     "metadata": {
      "needs_background": "light"
     },
     "output_type": "display_data"
    }
   ],
   "source": [
    "from matplotlib import pyplot as plt\n",
    "\n",
    "for i in [0,1]:\n",
    "    plt.subplot(1, 2, i + 1)\n",
    "    plt.imshow(X_train[i].reshape([28,28]))\n",
    "    plt.title(str(y_train[i]))"
   ]
  },
  {
   "cell_type": "code",
   "execution_count": 3,
   "metadata": {},
   "outputs": [
    {
     "data": {
      "text/plain": "array([0, 1, 2, 3, 4, 5, 6, 7, 8, 9])"
     },
     "execution_count": 3,
     "metadata": {},
     "output_type": "execute_result"
    }
   ],
   "source": [
    "import numpy as np\n",
    "\n",
    "np.unique(y_train)"
   ]
  },
  {
   "cell_type": "code",
   "execution_count": 17,
   "metadata": {},
   "outputs": [],
   "source": [
    "# Your turn: create a multiclass classifier in here for notMNIST dataset.\n",
    "from sklearn.tree import DecisionTreeClassifier\n",
    "\n",
    "decision_tree_clf = DecisionTreeClassifier(max_depth=3).fit(X_train, y_train)\n",
    "\n",
    "# create a network that stacks layers on top of each other\n",
    "import torch\n",
    "from torch import nn\n",
    "from torch.nn import Sequential\n",
    "import torchsummary\n",
    "\n",
    "model = nn.Sequential()\n",
    "# add first \"dense\" layer with 784 input units and 10 output unit. \n",
    "model.add_module('l1', nn.Linear(784,400))\n",
    "model.add_module('a1', nn.Sigmoid())\n",
    "model.add_module('l4', nn.Linear(400, 200))\n",
    "model.add_module('a4', nn.Sigmoid())\n",
    "model.add_module('l5', nn.Linear(200, 30))\n",
    "model.add_module('a5', nn.Sigmoid())\n",
    "model.add_module('l6', nn.Linear(30, 10))\n",
    "# model.add_module('a6', nn.LogSoftmax(dim=1))"
   ]
  },
  {
   "cell_type": "code",
   "execution_count": 18,
   "metadata": {},
   "outputs": [
    {
     "name": "stdout",
     "output_type": "stream",
     "text": "----------------------------------------------------------------\n        Layer (type)               Output Shape         Param #\n================================================================\n            Linear-1                  [-1, 400]         314,000\n           Sigmoid-2                  [-1, 400]               0\n            Linear-3                  [-1, 200]          80,200\n           Sigmoid-4                  [-1, 200]               0\n            Linear-5                   [-1, 30]           6,030\n           Sigmoid-6                   [-1, 30]               0\n            Linear-7                   [-1, 10]             310\n================================================================\nTotal params: 400,540\nTrainable params: 400,540\nNon-trainable params: 0\n----------------------------------------------------------------\nInput size (MB): 0.00\nForward/backward pass size (MB): 0.01\nParams size (MB): 1.53\nEstimated Total Size (MB): 1.54\n----------------------------------------------------------------\n"
    }
   ],
   "source": [
    "torchsummary.summary(model,(784,))"
   ]
  },
  {
   "cell_type": "code",
   "execution_count": null,
   "metadata": {},
   "outputs": [],
   "source": []
  },
  {
   "cell_type": "code",
   "execution_count": 19,
   "metadata": {},
   "outputs": [
    {
     "data": {
      "text/plain": "tensor([[-0.2845,  0.0160,  0.2134,  0.2563, -0.1190,  0.0250,  0.2210,  0.2125,\n         -0.0432, -0.5806],\n        [-0.2855,  0.0150,  0.2124,  0.2552, -0.1208,  0.0259,  0.2201,  0.2145,\n         -0.0442, -0.5824],\n        [-0.2830,  0.0168,  0.2115,  0.2550, -0.1222,  0.0273,  0.2180,  0.2114,\n         -0.0433, -0.5821]], grad_fn=<AddmmBackward>)"
     },
     "execution_count": 19,
     "metadata": {},
     "output_type": "execute_result"
    }
   ],
   "source": [
    "# create dummy data with 3 samples and 784 features\n",
    "x = torch.tensor(X_train[:3], dtype=torch.float32)\n",
    "y = torch.tensor(y_train[:3], dtype=torch.long)\n",
    "\n",
    "# compute outputs given inputs, both are variables\n",
    "y_predicted = model(x)\n",
    "\n",
    "y_predicted# display what we've got"
   ]
  },
  {
   "cell_type": "code",
   "execution_count": 20,
   "metadata": {},
   "outputs": [],
   "source": [
    "from torch.nn import CrossEntropyLoss, NLLLoss\n",
    "\n",
    "loss_function =  CrossEntropyLoss()"
   ]
  },
  {
   "cell_type": "code",
   "execution_count": null,
   "metadata": {},
   "outputs": [],
   "source": []
  },
  {
   "cell_type": "code",
   "execution_count": 21,
   "metadata": {},
   "outputs": [],
   "source": [
    "loss = loss_function(y_predicted, y)"
   ]
  },
  {
   "cell_type": "code",
   "execution_count": 22,
   "metadata": {},
   "outputs": [],
   "source": [
    "loss.backward()"
   ]
  },
  {
   "cell_type": "code",
   "execution_count": 10,
   "metadata": {},
   "outputs": [
    {
     "data": {
      "text/plain": "tensor([[ 3.2367e-05,  3.2367e-05,  3.2367e-05,  ...,  3.2367e-05,\n          3.2367e-05,  3.2367e-05],\n        [-1.3533e-04, -1.3533e-04, -1.3533e-04,  ..., -1.3533e-04,\n         -1.3533e-04, -1.3533e-04],\n        [ 6.9419e-06,  6.9419e-06,  6.9419e-06,  ...,  6.9419e-06,\n          6.9419e-06,  6.9419e-06],\n        ...,\n        [-2.7791e-06, -2.7791e-06, -2.7791e-06,  ..., -2.7791e-06,\n         -2.7791e-06, -2.7791e-06],\n        [ 7.3663e-05,  7.3663e-05,  7.3663e-05,  ...,  7.3663e-05,\n          7.3663e-05,  7.3663e-05],\n        [-3.3294e-05, -3.3294e-05, -3.3294e-05,  ..., -3.3294e-05,\n         -3.3294e-05, -3.3294e-05]])"
     },
     "execution_count": 10,
     "metadata": {},
     "output_type": "execute_result"
    }
   ],
   "source": [
    "list(model.parameters())[0].grad"
   ]
  },
  {
   "cell_type": "code",
   "execution_count": null,
   "metadata": {},
   "outputs": [],
   "source": []
  },
  {
   "cell_type": "code",
   "execution_count": 23,
   "metadata": {},
   "outputs": [],
   "source": [
    "from torch.optim import Adam\n",
    "\n",
    "opt = torch.optim.Adam(model.parameters(), lr = 3e-4)\n"
   ]
  },
  {
   "cell_type": "code",
   "execution_count": 24,
   "metadata": {},
   "outputs": [],
   "source": [
    "loss = loss_function(y_predicted,\n",
    "                     y)\n"
   ]
  },
  {
   "cell_type": "code",
   "execution_count": null,
   "metadata": {},
   "outputs": [],
   "source": []
  }
 ]
}